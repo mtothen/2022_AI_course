{
  "nbformat": 4,
  "nbformat_minor": 0,
  "metadata": {
    "colab": {
      "name": "20220526_AI_lecture_03.ipynb",
      "provenance": [],
      "collapsed_sections": []
    },
    "kernelspec": {
      "name": "python3",
      "display_name": "Python 3"
    },
    "language_info": {
      "name": "python"
    },
    "accelerator": "GPU"
  },
  "cells": [
    {
      "cell_type": "markdown",
      "source": [
        "# Pythonの基礎"
      ],
      "metadata": {
        "id": "eWo16q1nsuYv"
      }
    },
    {
      "cell_type": "markdown",
      "source": [
        "## ●変数と型\n",
        "Pythonでは、変数を使用する前に何らかの記述をする必要ありません。  \n",
        "以下のように、値を代入するところから記述を始めることができます。  "
      ],
      "metadata": {
        "id": "3aqiv5Ois9Wf"
      }
    },
    {
      "cell_type": "code",
      "source": [
        "a = 123"
      ],
      "metadata": {
        "id": "liRRhLa9tBB1"
      },
      "execution_count": null,
      "outputs": []
    },
    {
      "cell_type": "markdown",
      "source": [
        "Pythonは、変数に対して型の明示は不要です。  \n",
        "例えば、整数型の変数に文字列を代入すれば、それは文字列型の変数になります。  \n",
        "Pythonの主な型を以下に示します。"
      ],
      "metadata": {
        "id": "DO0yepmNtCqr"
      }
    },
    {
      "cell_type": "code",
      "source": [
        "a = 123             # 整数型（int）\n",
        "b = 123.456         # 浮動小数点型（float）\n",
        "c = \"Hello World!\"  # 文字列型（str）\n",
        "d = True            # 論理型（bool）\n",
        "e = [1, 2, 3]       # リスト型（list）"
      ],
      "metadata": {
        "id": "f3S3sVaQtEmS"
      },
      "execution_count": null,
      "outputs": []
    },
    {
      "cell_type": "markdown",
      "source": [
        "\\#はコメントを表し、同じ行のそれ以降はコードとして認識されることはありません。\n",
        "\n",
        "また、bool型の値は数値として扱うことができます。\n",
        "Trueは1でFalseは0として扱われます。\n",
        "\n",
        "以下の例では、TrueとFalseを足していますが、結果は0と1の和の1になります。"
      ],
      "metadata": {
        "id": "dJ7TCyRltHYL"
      }
    },
    {
      "cell_type": "code",
      "source": [
        "a = True; b = False\n",
        "print(a+b)"
      ],
      "metadata": {
        "id": "dVF09s5ftTuS"
      },
      "execution_count": null,
      "outputs": []
    },
    {
      "cell_type": "markdown",
      "source": [
        "Pythonでは、上記のように;（セミコロン）で区切ることで、一行内に複数の処理を書くことができます。\n",
        "\n",
        "また、浮動小数点型の値は指数表記が可能です。以下のようにeを用いて小数を表記することができます。"
      ],
      "metadata": {
        "id": "gMmeFw8XtXPs"
      }
    },
    {
      "cell_type": "code",
      "source": [
        "1.2e5   # 1.2x10の5乗 120000\n",
        "1.2e-5  # 1.2x10の-5乗 0.000012"
      ],
      "metadata": {
        "id": "BCjsJ2ndtVhl"
      },
      "execution_count": null,
      "outputs": []
    },
    {
      "cell_type": "markdown",
      "source": [
        "## ●演算子\n",
        "Pythonの演算子を紹介します。"
      ],
      "metadata": {
        "id": "Z_0EKV8Ltf6m"
      }
    },
    {
      "cell_type": "code",
      "source": [
        "a = 3; b = 4\n",
        "\n",
        "c = a + b               # 足し算\n",
        "print(c) \n",
        "\n",
        "d = a < b               # 比較（小さいかどうか）\n",
        "print(d)\n",
        "\n",
        "e = 3 < 4 and 4 < 5     # 論理和\n",
        "print(e)"
      ],
      "metadata": {
        "id": "r_4StjVGti14"
      },
      "execution_count": null,
      "outputs": []
    },
    {
      "cell_type": "markdown",
      "source": [
        "主な演算子をまとめると以下の通りです。\n",
        "\n",
        "||||\n",
        "|:-:|:-:|:--|\n",
        "|算術演算子| \\+ | 足し算 |\n",
        "||- | 引き算 |\n",
        "|| * | かける |\n",
        "|| / | 割る（小数） |\n",
        "|| // | 割る（整数） |\n",
        "|| % | 余り |\n",
        "|| ** | べき乗 |\n",
        "|比較演算子| < | 小さい |\n",
        "|| > | 大きい |\n",
        "|| <= | 以上 |\n",
        "|| >= | 以下 |\n",
        "|| == | 等しい |\n",
        "|| != | 等しくない |\n",
        "|論理演算子| and | 両者を満たす |\n",
        "|| or | どちらか片方を満たす |\n",
        "|| not | 満たさない |\n",
        "||||"
      ],
      "metadata": {
        "id": "FcflTN4utnQm"
      }
    },
    {
      "cell_type": "markdown",
      "source": [
        "## ●リスト\n",
        "リストは、複数の値をまとめて扱う場合に使用します。  \n",
        "リストは全体を`[]`で囲み、各要素は`,`で区切ります。  \n",
        "Pythonのリストはどのような型の値でも格納することができ、リストの中にリストを格納することもできます。  \n",
        "リストの各要素へのアクセスはインデックスを使い、要素の追加や入れ替えなどが可能です。  "
      ],
      "metadata": {
        "id": "OJnTwUWOtpJ1"
      }
    },
    {
      "cell_type": "code",
      "source": [
        "a = [1, 2, 3, 4, 5]     # リストの作成\n",
        "\n",
        "b = a[2]                # 3番目の要素を取得\n",
        "print(b)\n",
        "\n",
        "a.append(6)             # 末尾に要素を追加する\n",
        "print(a)\n",
        "\n",
        "a[2] = 7                # 要素の入れ替え\n",
        "print(a)"
      ],
      "metadata": {
        "id": "-nVn6a5Btsf2"
      },
      "execution_count": null,
      "outputs": []
    },
    {
      "cell_type": "markdown",
      "source": [
        "## ●タプル\n",
        "タプルはリストと同じく複数の値をまとめて扱いたいときに利用しますが、要素の追加や削除、入れ替えなどはできません。  \n",
        "タプルは全体を`()`で囲み、各要素は`,`で区切ります。  \n",
        "要素を変更する予定が無い場合は、リストよりもタプルを使用する方がベターです。  "
      ],
      "metadata": {
        "id": "zfmJlWM6tuc_"
      }
    },
    {
      "cell_type": "code",
      "source": [
        "a = (1, 2, 3, 4, 5)     # タプルの作成\n",
        "\n",
        "b = a[2]                # 3番目の要素を取得\n",
        "print(b)"
      ],
      "metadata": {
        "id": "dlsg9YFztwzP"
      },
      "execution_count": null,
      "outputs": []
    },
    {
      "cell_type": "markdown",
      "source": [
        "要素が1つだけのタプルは、以下のように要素の直後に,が必要です。"
      ],
      "metadata": {
        "id": "7DAXmVuvtzxY"
      }
    },
    {
      "cell_type": "code",
      "source": [
        "(3,)"
      ],
      "metadata": {
        "id": "nVwI_bGLt1zY"
      },
      "execution_count": null,
      "outputs": []
    },
    {
      "cell_type": "markdown",
      "source": [
        "リストやタプルの要素は、以下のようにしてまとめて変数に代入することが可能です。"
      ],
      "metadata": {
        "id": "3e_iI8gMt36m"
      }
    },
    {
      "cell_type": "code",
      "source": [
        "a = [1, 2, 3]\n",
        "a1, a2, a3 = a\n",
        "print(a1, a2, a3)\n",
        "\n",
        "b = (4, 5, 6)\n",
        "b1, b2, b3 = b\n",
        "print(b1, b2, b3) "
      ],
      "metadata": {
        "id": "b0FhNOOAt6A_"
      },
      "execution_count": null,
      "outputs": []
    },
    {
      "cell_type": "markdown",
      "source": [
        "## ●辞書\n",
        "辞書は、キーと値の組合せでデータを格納します。　  \n",
        "以下は、Pythonの辞書を扱う例です。  \n",
        "文字列をキーとして辞書を作成し、値の取得や入れ替え、要素の追加を行っています。"
      ],
      "metadata": {
        "id": "5r9u9RMFuG9g"
      }
    },
    {
      "cell_type": "code",
      "source": [
        "a = {\"Artificial\":1, \"Intelligence\":2}  # 辞書の作成\n",
        "print(a[\"Artificial\"])   # \"Apple\"のキーを持つ値を取得\n",
        "\n",
        "a[\"Intelligence\"] = 7  # 要素の入れ替え\n",
        "print(a[\"Intelligence\"])\n",
        "\n",
        "a[\"ML\"] = 3  # 要素の追加\n",
        "print(a)"
      ],
      "metadata": {
        "id": "BPk58mDat8wq"
      },
      "execution_count": null,
      "outputs": []
    },
    {
      "cell_type": "markdown",
      "source": [
        "## ●セット  \n",
        "セットはリストと似ていますが、重複した値の要素をもつことができません。  \n",
        "タプルと異なり、要素の追加や削除が可能です。"
      ],
      "metadata": {
        "id": "W-WGP4nEuMJJ"
      }
    },
    {
      "cell_type": "code",
      "source": [
        "a = [1, 1, 2, 3, 4, 4, 5, 5, 5]  # リスト\n",
        "print(a)\n",
        "\n",
        "b = set(a)  # セットに変換\n",
        "print(b)\n",
        "\n",
        "b.add(6)  # 値を追加\n",
        "print(b)\n",
        "\n",
        "b.remove(3)  # 値を削除\n",
        "print(b)"
      ],
      "metadata": {
        "id": "Ds_j8_MguOPv"
      },
      "execution_count": null,
      "outputs": []
    },
    {
      "cell_type": "markdown",
      "source": [
        "## ●if文  \n",
        "分岐にはif文を用います。  \n",
        "ifの条件が満たされていなければ、elifの条件が上から順番に判定されます。  \n",
        "これらの条件がすべて満たされていなければ、else内の処理が実行されます。  \n",
        "\n",
        "多くのプログラミング言語では分岐や関数のブロックを表すために{ }を使用しますが、Pythonではブロックの範囲を行頭のインデントで表します。  \n",
        "すなわち、インデントしていない行が出現したら、その直前にブロックは終了していることになります。  \n",
        "インデントには、半角スペース4つを用いることが多いです。"
      ],
      "metadata": {
        "id": "L-0foG-AuSmm"
      }
    },
    {
      "cell_type": "code",
      "source": [
        "a = 7\n",
        "if a < 12:\n",
        "    print(\"Good morning!\")\n",
        "elif a < 17:\n",
        "    print(\"Good afternoon!\")\n",
        "elif a < 21:\n",
        "    print(\"Good evening!\")\n",
        "else:\n",
        "    print(\"Good night!\")"
      ],
      "metadata": {
        "id": "-c47pBgYuTfm"
      },
      "execution_count": null,
      "outputs": []
    },
    {
      "cell_type": "markdown",
      "source": [
        "## ●for文\n",
        "指定した回数ループするためにはfor文を用います。  \n",
        "ループする範囲を指定するためには、リストやrangeをin演算子とともに用います。  \n",
        "\n",
        "rangeの使い方は次のとおりです。[ ]で囲まれた引数は省略可能です。\n",
        "\n",
        "```\n",
        "range([開始番号,] 終了番号［, ステップ数])\n",
        "```\n",
        "\n",
        "例えばrange(3)は、0から2までの範囲になります。"
      ],
      "metadata": {
        "id": "ecG0vs4cuVrv"
      }
    },
    {
      "cell_type": "code",
      "source": [
        "for a in [4, 7, 10]:    # リストを使ったループ\n",
        "    print(a)\n",
        "    \n",
        "for a in range(3):      # rangeを使ったループ\n",
        "    print(a)"
      ],
      "metadata": {
        "id": "Gf5iMraduYrv"
      },
      "execution_count": null,
      "outputs": []
    },
    {
      "cell_type": "markdown",
      "source": [
        "##●while文\n",
        "ある条件を満たしている間ループするためには、while文を用います。"
      ],
      "metadata": {
        "id": "c4qxaBRwuayY"
      }
    },
    {
      "cell_type": "code",
      "source": [
        "a = 0\n",
        "while a < 3:  # aが3より小さい間ループ\n",
        "    print(a)\n",
        "    a += 1"
      ],
      "metadata": {
        "id": "cu30FTDaufkH"
      },
      "execution_count": null,
      "outputs": []
    },
    {
      "cell_type": "markdown",
      "source": [
        "## ●内包表記\n",
        "内容表記は、リストの要素を操作した上で、新しいリストを作成するための記法です。  \n",
        "通常、そのような処理はforやwhileによるループを使用しますが、内包表記を用いると、簡潔に記述することができます。  \n",
        "内包表記は、以下の形式で記述します。  \n",
        "\n",
        "```\n",
        "新たなリスト = [ 要素への処理 for 要素 in リスト]  \n",
        "```"
      ],
      "metadata": {
        "id": "eSnOdSDeuhxX"
      }
    },
    {
      "cell_type": "code",
      "source": [
        "a = [1, 2, 3, 4, 5, 6]\n",
        "b = [c*3+1 for c in a]    # aの要素を3倍して1を足し新たなリストを作る\n",
        "print(b)"
      ],
      "metadata": {
        "id": "QMcOlKpZukkI"
      },
      "execution_count": null,
      "outputs": []
    },
    {
      "cell_type": "markdown",
      "source": [
        "## ●関数\n",
        "関数を用いることで、複数行の処理をまとめることができます。  \n",
        "関数はdefのあとに関数名を記述し、()の中に引数を記述します。  \n",
        "returnのあとの値が返り値になります。  "
      ],
      "metadata": {
        "id": "XzKM1JXHunhG"
      }
    },
    {
      "cell_type": "code",
      "source": [
        "def add(a, b):          # 関数の定義\n",
        "    c = a + b\n",
        "    return c\n",
        "\n",
        "print(add(3, 4))        # 関数の実行"
      ],
      "metadata": {
        "id": "XjffP48OuqpS"
      },
      "execution_count": null,
      "outputs": []
    },
    {
      "cell_type": "markdown",
      "source": [
        "引数にはデフォルト値を設定できます。\n",
        "デフォルト値を設定すると、関数を呼び出す際にその引数を省略できます。\n",
        "以下の例では、第2引数にデフォルト値が設定されています。"
      ],
      "metadata": {
        "id": "ndZMKl2-usi0"
      }
    },
    {
      "cell_type": "code",
      "source": [
        "def add(a, b=4):        # 第2引数にデフォルト値を設定\n",
        "    c = a + b\n",
        "    return c\n",
        "\n",
        "print(add(3))           # 第2引数は指定しない"
      ],
      "metadata": {
        "id": "54n41F69uxD_"
      },
      "execution_count": null,
      "outputs": []
    },
    {
      "cell_type": "markdown",
      "source": [
        "また、*（アスタリスク）を付けたタプルを用いて、複数の引数を一度に渡すことができます。"
      ],
      "metadata": {
        "id": "LotrFWwRu36P"
      }
    },
    {
      "cell_type": "code",
      "source": [
        "def add(a, b ,c):\n",
        "    d = a + b + c\n",
        "    print(d)\n",
        "\n",
        "e = (1, 2, 3)\n",
        "add(*e)           # 複数の引数を一度に渡す"
      ],
      "metadata": {
        "id": "gFq6SF5Iu5Zr"
      },
      "execution_count": null,
      "outputs": []
    },
    {
      "cell_type": "markdown",
      "source": [
        "##●変数のスコープ\n",
        "関数内で定義された変数がローカル変数、関数外で定義された変数がグローバル変数です。\n",
        "\n",
        "ローカル変数は同じ関数内からのみ参照できますが、グローバル変数はどこからでも参照できます。"
      ],
      "metadata": {
        "id": "uivpTHj_u7Yj"
      }
    },
    {
      "cell_type": "code",
      "source": [
        "a = 123         # グローバル変数\n",
        "\n",
        "def showNum():\n",
        "    b = 456     # ローカル変数\n",
        "    print(a, b)\n",
        "    \n",
        "showNum()"
      ],
      "metadata": {
        "id": "o212672FvDhq"
      },
      "execution_count": null,
      "outputs": []
    },
    {
      "cell_type": "markdown",
      "source": [
        "Pythonでは、関数内でグローバル変数に値を代入しようとすると、新しいローカル変数とみなされます。  \n",
        "以下の例では、関数内でグローバル変数aに値を代入しても、グローバル変数aの値は変わっていません。"
      ],
      "metadata": {
        "id": "ddC8a3EvvB1N"
      }
    },
    {
      "cell_type": "code",
      "source": [
        "a = 123\n",
        "\n",
        "def setLocal():\n",
        "    a = 456         # aはローカル変数とみなされる\n",
        "    print(\"Local:\", a)\n",
        "    \n",
        "setLocal()\n",
        "print(\"Global:\", a)"
      ],
      "metadata": {
        "id": "kTCZqXZnvSzQ"
      },
      "execution_count": null,
      "outputs": []
    },
    {
      "cell_type": "markdown",
      "source": [
        "グローバル変数の値を変更するためには、globalもしくはnonlocalを用いて、変数がローカルではないことを明記する必要があります。"
      ],
      "metadata": {
        "id": "yd7VKh8TvVQQ"
      }
    },
    {
      "cell_type": "code",
      "source": [
        "a = 123\n",
        "\n",
        "def setGlobal():\n",
        "    global a            # nonlocalでも可\n",
        "    a = 456\n",
        "    print(\"Global:\", a)\n",
        "    \n",
        "setGlobal()\n",
        "print(\"Global:\", a)"
      ],
      "metadata": {
        "id": "3KZY_M6NvYiJ"
      },
      "execution_count": null,
      "outputs": []
    },
    {
      "cell_type": "markdown",
      "source": [
        "## ●クラス\n",
        "Pythonでは、オブジェクト指向プログラミングが可能です。  \n",
        "オブジェクト指向は、オブジェクト同士の相互作用として、システムの振る舞いをとらえる考え方です。  \n",
        "\n",
        "オブジェクト指向には、クラスとインスタンスという概念があります。  \n",
        "クラスは設計図のようなもので、インスタンスは実体です。  \n",
        "クラスから複数のインスタンスを生成することができます。  \n",
        "クラスとインスタンスを総称して、オブジェクトといいます。  \n",
        "\n",
        "Pythonでクラスを定義するためには、`class`の表記を用います。  \n",
        "クラスを用いると、複数のメソッドをまとめることができます。  \n",
        "メソッドは関数に似ており、defで記述を開始します。  \n",
        "\n",
        "以下の例では、`Calc`クラス内に`__init__`メソッド、`add`メソッド、`multiply`メソッドが実装されています。"
      ],
      "metadata": {
        "id": "ccK7qfRZvbzx"
      }
    },
    {
      "cell_type": "code",
      "source": [
        "class Calc:\n",
        "    def __init__(self, a):\n",
        "        self.a = a\n",
        "   \n",
        "    def add(self, b):\n",
        "        print(self.a + b)\n",
        "        \n",
        "    def multiply(self, b):\n",
        "        print(self.a * b)"
      ],
      "metadata": {
        "id": "xX5QBHQ0vddn"
      },
      "execution_count": null,
      "outputs": []
    },
    {
      "cell_type": "markdown",
      "source": [
        "Pythonのメソッドは引数として`self`を受け取るという特徴があります。  \n",
        "このselfを用いて、インスタンス変数にアクセスすることができます。  \n",
        "インスタンス変数は、クラスからインスタンスを生成し、そちらの方でアクセスする変数です。  \n",
        "\n",
        "　`__init__`は特殊なメソッドで、コンストラクタと呼ばれています。  \n",
        " このメソッドで、インスタンスの初期設定を行います。  \n",
        " 上記のクラスでは、`self.a = a`で引数として受け取った値をインスタンス変数`a`に代入します。\n",
        "\n",
        "`add`メソッドと`multiply`メソッドでは、引数として受け取った値をインスタンス変数`a`と演算しています。  \n",
        "このように、一度メソッドで値が代入されたインスタンス変数は、同じインスタンスのどのメソッドからでも`self`を用いてアクセスすることができます。 \n",
        "\n",
        "上記のクラスCalcから、以下のようにインスタンスを生成しメソッドを呼び出すことができます。  \n",
        "この場合、`Calc(3)`でインスタンスを生成し、変数`calc`に代入しています。  "
      ],
      "metadata": {
        "id": "KUI80kPhvfd_"
      }
    },
    {
      "cell_type": "code",
      "source": [
        "calc = Calc(3)\n",
        "calc.add(4)\n",
        "calc.multiply(4)"
      ],
      "metadata": {
        "id": "Ccpx_satvhTA"
      },
      "execution_count": null,
      "outputs": []
    },
    {
      "cell_type": "markdown",
      "source": [
        "初期化時に3という値をインスタンスに渡し、addメソッドとmultiplyメソッドを呼び出します。  \n",
        "実行すると、4+3と4x3、それぞれの計算結果を得ることができます。  \n",
        "\n",
        "また、クラスには継承という概念があります。  \n",
        "クラスを継承することで、既存のクラスを引き継いで新たなクラスを定義することができます。  \n",
        "以下の例では、`Calc`クラスを継承して`CalcPlus`クラスを定義しています。  "
      ],
      "metadata": {
        "id": "1yb_20qnvjAY"
      }
    },
    {
      "cell_type": "code",
      "source": [
        "class CalcPlus(Calc):     # Calcを継承\n",
        "    def subtract(self, b):\n",
        "        print(self.a - b)\n",
        "        \n",
        "    def divide(self, b):\n",
        "        print(self.a / b)"
      ],
      "metadata": {
        "id": "z-i9RTxNvlCg"
      },
      "execution_count": null,
      "outputs": []
    },
    {
      "cell_type": "markdown",
      "source": [
        "`subtract`メソッドと、`divide`メソッドが新たに追加されています。  \n",
        "それでは、CalcPlusメソッドからインスタンスを生成し、メソッドを呼び出してみましょう。  "
      ],
      "metadata": {
        "id": "VGEBhkwdvnbY"
      }
    },
    {
      "cell_type": "code",
      "source": [
        "calc_plus = CalcPlus(3)\n",
        "calc_plus.add(4)\n",
        "calc_plus.multiply(4)\n",
        "calc_plus.subtract(4)\n",
        "calc_plus.divide(4)"
      ],
      "metadata": {
        "id": "Dbzt_FNVvpsC"
      },
      "execution_count": null,
      "outputs": []
    },
    {
      "cell_type": "markdown",
      "source": [
        "継承元のCalcクラスで定義されたメソッドも、これを継承したCalcPlusクラスで定義されたメソッドも、同じように呼び出すことができます。\n",
        "このようなクラスの継承を利用すれば、複数のクラスの共通部分を継承元のクラスにまとめることができます。"
      ],
      "metadata": {
        "id": "meInTscpvtOg"
      }
    },
    {
      "cell_type": "markdown",
      "source": [
        "## ●\\_\\_call\\_\\_メソッド\n",
        "\\_\\_init\\_\\_の他に、\\_\\_call\\_\\_という特殊なメソッドがあります。  \n",
        "このメソッドをクラス内に実装すると、インスタンス名からメソッドを呼び出すことができます。\n"
      ],
      "metadata": {
        "id": "liAy76Lovvpr"
      }
    },
    {
      "cell_type": "code",
      "source": [
        "class Hello:\n",
        "    def __init__(self, name):\n",
        "        self.name = name\n",
        "\n",
        "    def __call__(self):\n",
        "        print(\"Hello \" + self.name + \"!\")\n",
        "\n",
        "h = Hello(\"AI\")\n",
        "h()  # インスタンス名hを使って__call__メソッドを呼ぶ\n",
        "\n",
        "Hello(\"AI\")()  # 上に同じ"
      ],
      "metadata": {
        "id": "JZlofTnqvxvl"
      },
      "execution_count": null,
      "outputs": []
    },
    {
      "cell_type": "markdown",
      "source": [
        "## ●with構文\n",
        "with構文を用いて、ファイルの読み込みや保存を簡潔に記述することができます。  \n",
        "以下は、文字列をファイルに保存する例です。  \n",
        "保存されたファイルは、サイドバーで確認することができます。"
      ],
      "metadata": {
        "id": "XJC6lQimv25h"
      }
    },
    {
      "cell_type": "code",
      "source": [
        "greetings = \"Good morning!\\nGood afternoon!\\nGood evening!\\nGood night!\"\n",
        "\n",
        "with open(\"greetings.txt\", \"w\") as f:\n",
        "    f.write(greetings)  # ファイルに保存"
      ],
      "metadata": {
        "id": "PnIQ6AYIv3mS"
      },
      "execution_count": null,
      "outputs": []
    },
    {
      "cell_type": "markdown",
      "source": [
        "以下は、上記で保存されたファイルを読み込んで表示する例です。"
      ],
      "metadata": {
        "id": "Gy6ee87Hv7nB"
      }
    },
    {
      "cell_type": "code",
      "source": [
        "with open(\"greetings.txt\", \"r\") as f:\n",
        "    print(f.read())  # ファイルの読み込み"
      ],
      "metadata": {
        "id": "oJjcvYFSv9RA"
      },
      "execution_count": null,
      "outputs": []
    },
    {
      "cell_type": "markdown",
      "source": [
        "## ●ローカルとのやりとり\n",
        "Google Colaboratoryでは、端末からファイルをアップしたり、端末にファイルをダウンロードするコードを書くことができます。   \n",
        "以下は、端末からファイルをアップロードするコードです。"
      ],
      "metadata": {
        "id": "-rsnQfbuwASA"
      }
    },
    {
      "cell_type": "code",
      "source": [
        "from google.colab import files\n",
        "\n",
        "uploaded = files.upload()\n",
        "for key in uploaded.keys():\n",
        "  print(uploaded[key].decode('utf-8'))"
      ],
      "metadata": {
        "id": "qpb9Yk8xwCPp"
      },
      "execution_count": null,
      "outputs": []
    },
    {
      "cell_type": "markdown",
      "source": [
        "以下のようにして、ファイルをダウンロードすることもできます。"
      ],
      "metadata": {
        "id": "xH9YpqTOwJeN"
      }
    },
    {
      "cell_type": "code",
      "source": [
        "files.download('greetings.txt')"
      ],
      "metadata": {
        "id": "evE7lS2iwLhh"
      },
      "execution_count": null,
      "outputs": []
    },
    {
      "cell_type": "markdown",
      "source": [
        "●Google ドライブとの連携\n",
        "With構文を使って、Googleドライブにファイルを保存します。\n",
        "\n",
        "以下のコードは、認証コードを使用してGoogle ドライブをマウントします。"
      ],
      "metadata": {
        "id": "P5HnJ6BowPpZ"
      }
    },
    {
      "cell_type": "code",
      "source": [
        "from google.colab import drive\n",
        "drive.mount('/content/drive/')"
      ],
      "metadata": {
        "id": "tDUFS_3EwSpM"
      },
      "execution_count": null,
      "outputs": []
    },
    {
      "cell_type": "markdown",
      "source": [
        "Google ドライブにファイルを保存します。"
      ],
      "metadata": {
        "id": "AliRCN6DwYia"
      }
    },
    {
      "cell_type": "code",
      "source": [
        "import os\n",
        "\n",
        "path = '/content/drive/My Drive/greetings/'\n",
        "\n",
        "# ディレクトリを作成する\n",
        "if not os.path.exists(path):\n",
        "    os.makedirs(path)\n",
        "\n",
        "# ファイルを保存する\n",
        "with open('/content/drive/My Drive/greetings/hello.txt', 'w') as f:\n",
        "  f.write(\"Hello!\")"
      ],
      "metadata": {
        "id": "VU1ev-fvwanR"
      },
      "execution_count": null,
      "outputs": []
    },
    {
      "cell_type": "markdown",
      "source": [
        "# NumPyの基礎\n",
        "NumPyはPythonの拡張モジュールで、シンプルな表記で効率的なデータの操作を可能にします。  \n",
        "多次元配列を強力にサポートし、内部はC言語で実装されているため高速に動作します。   "
      ],
      "metadata": {
        "id": "XPIc2gOnwlDw"
      }
    },
    {
      "cell_type": "markdown",
      "source": [
        "## ●Numpyの導入\n",
        "Pythonでは、importの記述によりモジュールを導入することができます。\n",
        "\n",
        "NumPyはモジュールなので、NumPyを使用するためには、コードの先頭に例えば以下のように記述します。\n"
      ],
      "metadata": {
        "id": "ED0P9t9Jworb"
      }
    },
    {
      "cell_type": "code",
      "source": [
        "import numpy as np"
      ],
      "metadata": {
        "id": "SyM_-2ixwt6p"
      },
      "execution_count": null,
      "outputs": []
    },
    {
      "cell_type": "markdown",
      "source": [
        "asを使うことでモジュールに別の名前をつけることができます。  \n",
        "このように記述すると、これ以降npという名前でNumPyのモジュールを扱うことができます。  "
      ],
      "metadata": {
        "id": "0MgZnFV-wvkx"
      }
    },
    {
      "cell_type": "markdown",
      "source": [
        "## ●Numpyの配列\n",
        "\n",
        "人工知能の計算にはベクトルや行列を多用しますが、これらを表現するのにNumPyの配列を用います。  \n",
        "ベクトルや行列についてはのちのセクションで改めて解説しますが、ここではとりあえずNumPyの配列とは数値が折り重なって並んだもの、と考えていただければ十分です。  \n",
        "以降、単に配列と呼ぶ場合はNumPyの配列を指すことにします。  \n",
        "\n",
        "NumPyの配列は、NumPyのarray関数を使うことでPythonのリストから簡単に作ることができます。 \n"
      ],
      "metadata": {
        "id": "Qt-T2mTQwvsx"
      }
    },
    {
      "cell_type": "code",
      "source": [
        "import numpy as np\n",
        "\n",
        "a = np.array([0, 1, 2, 3, 4, 5])  # PythonのリストからNumPyの配列を作る\n",
        "print(a) "
      ],
      "metadata": {
        "id": "KWZvN5SYw0nu"
      },
      "execution_count": null,
      "outputs": []
    },
    {
      "cell_type": "markdown",
      "source": [
        "このような配列が折り重なった、2次元の配列を作ることもできます。\n",
        "2次元配列は、要素がリストであるリスト（2重のリスト）から作ります。"
      ],
      "metadata": {
        "id": "U0mrRonUxAB6"
      }
    },
    {
      "cell_type": "code",
      "source": [
        "import numpy as np\n",
        "\n",
        "b = np.array([[0, 1, 2], [3, 4, 5]])  # 2重のリストからNumPyの2次元配列を作る\n",
        "print(b)"
      ],
      "metadata": {
        "id": "zoxCJ5l4xB_x"
      },
      "execution_count": null,
      "outputs": []
    },
    {
      "cell_type": "markdown",
      "source": [
        "同様に、3次元の配列も作ることができます。\n",
        "3次元配列は2次元の配列がさらに折り重なったもので、3重のリストから作ります。"
      ],
      "metadata": {
        "id": "FWZQcCvMxGQT"
      }
    },
    {
      "cell_type": "code",
      "source": [
        "import numpy as np\n",
        "\n",
        "c = np.array([[[0, 1, 2], [3, 4, 5]], [[5, 4, 3], [2, 1, 0]]])  # 3重のリストからNumPyの3次元配列を作る\n",
        "print(c)"
      ],
      "metadata": {
        "id": "IN6PdWeYxH3B"
      },
      "execution_count": null,
      "outputs": []
    },
    {
      "cell_type": "markdown",
      "source": [
        "## ●配列の演算\n",
        "\n",
        "以下の例では、配列と数値の間で演算を行なっています。  \n",
        "この場合、配列の各要素と数値の間で演算が行われます。"
      ],
      "metadata": {
        "id": "R7c_wPi0xLN6"
      }
    },
    {
      "cell_type": "code",
      "source": [
        "import numpy as np\n",
        "\n",
        "a = np.array([[0, 1, 2], [3, 4, 5]])  # 2次元配列\n",
        "\n",
        "print(a) \n",
        "print()\n",
        "print(a + 3)  # 各要素に3を足す\n",
        "print()\n",
        "print(a * 3)  # 各要素に3をかける"
      ],
      "metadata": {
        "id": "SdItegBixOKC"
      },
      "execution_count": null,
      "outputs": []
    },
    {
      "cell_type": "markdown",
      "source": [
        "また、以下は配列同士の演算の例です。\n",
        "この場合は同じ位置の各要素同士で演算が行われます。"
      ],
      "metadata": {
        "id": "mtyL3PzPxQgy"
      }
    },
    {
      "cell_type": "code",
      "source": [
        "b = np.array([[0, 1, 2], [3, 4, 5]])  # 2次元配列\n",
        "c = np.array([[2, 0, 1], [5, 3, 4]])  # 2次元配列\n",
        "\n",
        "print(b)\n",
        "print()\n",
        "print(c)\n",
        "print()\n",
        "print(b + c)\n",
        "print()\n",
        "print(b * c)"
      ],
      "metadata": {
        "id": "9sy0Dc-sxS-R"
      },
      "execution_count": null,
      "outputs": []
    },
    {
      "cell_type": "markdown",
      "source": [
        "ブロードキャストという機能により、特定の条件を満たしていれば形状の異なる配列同士でも演算が可能です。"
      ],
      "metadata": {
        "id": "yiRkSwQxxWMk"
      }
    },
    {
      "cell_type": "code",
      "source": [
        "d = np.array([[1, 1],\n",
        "              [1, 1]])  # 2次元配列\n",
        "e = np.array([1, 2])  # 1次元配列\n",
        "\n",
        "print(d + e)"
      ],
      "metadata": {
        "id": "Hk9P_3lyxZvx"
      },
      "execution_count": null,
      "outputs": []
    },
    {
      "cell_type": "markdown",
      "source": [
        "## ●形状の変換\n",
        "NumPyのshapeメソッドにより、配列の形状を得ることができます。  "
      ],
      "metadata": {
        "id": "aOVnYcoJxcDI"
      }
    },
    {
      "cell_type": "code",
      "source": [
        "import numpy as np\n",
        "\n",
        "a = np.array([[0, 1, 2],\n",
        "            [3, 4, 5]])\n",
        "\n",
        "print(a.shape)"
      ],
      "metadata": {
        "id": "C4vw2TdqxePi"
      },
      "execution_count": null,
      "outputs": []
    },
    {
      "cell_type": "markdown",
      "source": [
        "reshapeメソッドを使うと、配列の形状を変換することができます。  \n",
        "以下の例では、要素数が8の1次元配列を 形状が(2, 4)の2次元配列に変換しています。  "
      ],
      "metadata": {
        "id": "xD94wmI8xggu"
      }
    },
    {
      "cell_type": "code",
      "source": [
        "b = np.array([0, 1, 2, 3, 4, 5, 6, 7])    # 配列の作成\n",
        "c = b.reshape(2, 4)                       # (2, 4)の2次元配列に変換\n",
        "print(c)"
      ],
      "metadata": {
        "id": "H8beA2GSxiWa"
      },
      "execution_count": null,
      "outputs": []
    },
    {
      "cell_type": "markdown",
      "source": [
        "reshapeの引数を-1にすることで、どのような形状の配列でも1次元配列に変換することができます。"
      ],
      "metadata": {
        "id": "Mkyrm1zfxlvI"
      }
    },
    {
      "cell_type": "code",
      "source": [
        "d = np.array([[[0, 1, 2],\n",
        "                   [3, 4, 5]],\n",
        "                  \n",
        "                  [[5, 4, 3],\n",
        "                   [2, 1, 0]]])  # 3重のリストからNumPyの3次元配列を作る\n",
        "\n",
        "\n",
        "e = d.reshape(-1)\n",
        "print(e)"
      ],
      "metadata": {
        "id": "naur4F_AxoEV"
      },
      "execution_count": null,
      "outputs": []
    },
    {
      "cell_type": "markdown",
      "source": [
        "## ●要素へのアクセス\n",
        "\n",
        "配列の各要素へのアクセスは、リストの場合と同様にインデックスを利用します。\n",
        "一次元配列の場合、以下のように[ ]内にインデックスを指定することで、要素を取り出すことができます。\n",
        "\n"
      ],
      "metadata": {
        "id": "XZgKiNg_xqyZ"
      }
    },
    {
      "cell_type": "code",
      "source": [
        "import numpy as np\n",
        "\n",
        "a = np.array([0, 1, 2, 3, 4, 5])\n",
        "print(a[2])"
      ],
      "metadata": {
        "id": "c4w_mO5lxu46"
      },
      "execution_count": null,
      "outputs": []
    },
    {
      "cell_type": "markdown",
      "source": [
        "この場合は、先頭から0,1,2...とインデックスをつけた場合の、インデックスが2要素を取り出しています。\n",
        "また、リストの場合と同様に、インデックスを指定して要素を入れ替えることができます。"
      ],
      "metadata": {
        "id": "uENzMaUexxNB"
      }
    },
    {
      "cell_type": "code",
      "source": [
        "a[2] = 9\n",
        "print(a)"
      ],
      "metadata": {
        "id": "IQBCbnY-xyS9"
      },
      "execution_count": null,
      "outputs": []
    },
    {
      "cell_type": "markdown",
      "source": [
        "この場合は、インデックスが2の要素を9に置き換えています。\n",
        "\n",
        "2次元配列の場合、要素を取り出す際にはインデックスを縦横で2つ指定します。\n",
        ",（カンマ）区切りでインデックスを並べることも、インデックスを入れた[ ]を2つ並べることもできます。"
      ],
      "metadata": {
        "id": "WlhMABTax37J"
      }
    },
    {
      "cell_type": "code",
      "source": [
        "b = np.array([[0, 1, 2],\n",
        "              [3, 4, 5]])\n",
        "\n",
        "print(b[1, 2])  # b[1][2]と同じ"
      ],
      "metadata": {
        "id": "M4tZOryTx2-R"
      },
      "execution_count": null,
      "outputs": []
    },
    {
      "cell_type": "markdown",
      "source": [
        "縦のインデックスが1、横のインデックスが2の要素を取り出すことができました。\n",
        "要素を入れ替える際も、同様にインデックスを2つ指定します。"
      ],
      "metadata": {
        "id": "sI8nemBkx9Qh"
      }
    },
    {
      "cell_type": "code",
      "source": [
        "b[1, 2] = 9\n",
        "\n",
        "print(b)"
      ],
      "metadata": {
        "id": "pWUrCzTcx-81"
      },
      "execution_count": null,
      "outputs": []
    },
    {
      "cell_type": "markdown",
      "source": [
        "2つのインデックスで指定した要素が入れ替わりました。\n",
        "3次元以上の配列の場合も同様に、インデックスを複数指定することで要素にアクセスすることができます。"
      ],
      "metadata": {
        "id": "Pw9JJTamyBET"
      }
    },
    {
      "cell_type": "markdown",
      "source": [
        "## ●関数と配列\n",
        "\n",
        "関数の引数や返り値としてNumPyの配列を使うことができます。  \n",
        "以下の関数`my_func`は、引数として配列を受け取り、返り値として配列を返しています。"
      ],
      "metadata": {
        "id": "suWBrF7TyERS"
      }
    },
    {
      "cell_type": "code",
      "source": [
        "import numpy as np\n",
        "\n",
        "def my_func(x):\n",
        "    y = x * 2 + 1\n",
        "    return y\n",
        "\n",
        "a = np.array([[0, 1, 2],\n",
        "              [3, 4, 5]])  # 2次元配列\n",
        "b = my_func(a)  # 引数として配列を渡す\n",
        "\n",
        "print(b)"
      ],
      "metadata": {
        "id": "weZnoxODyF_K"
      },
      "execution_count": null,
      "outputs": []
    },
    {
      "cell_type": "markdown",
      "source": [
        "## ●NumPyの様々な機能\n",
        "\n",
        "sumにより合計、averageにより平均、maxにより最大値、minにより最小値を得ることができます。"
      ],
      "metadata": {
        "id": "Vr4O3zMnyH6P"
      }
    },
    {
      "cell_type": "code",
      "source": [
        "import numpy as np\n",
        "\n",
        "a = np.array([[0, 1, 2],\n",
        "              [3, 4, 5]])  # 2次元配列\n",
        "\n",
        "print(np.sum(a))\n",
        "print(np.average(a))\n",
        "print(np.max(a))\n",
        "print(np.min(a))"
      ],
      "metadata": {
        "id": "fLgtb3m6yJap"
      },
      "execution_count": null,
      "outputs": []
    },
    {
      "cell_type": "markdown",
      "source": [
        "引数にaxisを指定すると、特定の方向で演算を行うことができます。"
      ],
      "metadata": {
        "id": "wuNjs29syN4q"
      }
    },
    {
      "cell_type": "code",
      "source": [
        "import numpy as np\n",
        "\n",
        "b = np.array([[0, 1, 2],\n",
        "              [3, 4, 5]])  # 2次元配列\n",
        "\n",
        "print(np.sum(b, axis=0))  # 縦方向で合計\n",
        "print(np.sum(b, axis=1))  # 横方向で合計"
      ],
      "metadata": {
        "id": "uKESxiKEyPeL"
      },
      "execution_count": null,
      "outputs": []
    },
    {
      "cell_type": "markdown",
      "source": [
        "# Pandasの基礎\n",
        "PandasはPythonでデータ分析を行うためのライブラリで、データの読み込みや編集、統計量の表示などを簡単に行うことができます。  \n",
        "主要なコードはCythonまたはC言語で書かれており、高速に動作します。  \n",
        "このため、PandasはPythonによるデータ分析や機械学習でよく使われます。  "
      ],
      "metadata": {
        "id": "gv3o_hWgydwC"
      }
    },
    {
      "cell_type": "markdown",
      "source": [
        "## ●Pandasの導入\n",
        "\n",
        "Pandasを使うためには、Pandasのモジュールをインポートする必要があります。\n",
        "NumPyもインポートしておきます。"
      ],
      "metadata": {
        "id": "X37jRrG2yfnD"
      }
    },
    {
      "cell_type": "code",
      "source": [
        "import pandas as pd\n",
        "import numpy as np"
      ],
      "metadata": {
        "id": "2waSne6Uyj1D"
      },
      "execution_count": null,
      "outputs": []
    },
    {
      "cell_type": "markdown",
      "source": [
        "Pandasのデータ構造にはSeries（一次元）とDataFrame（二次元）があります。"
      ],
      "metadata": {
        "id": "G4t7KPcLyllq"
      }
    },
    {
      "cell_type": "markdown",
      "source": [
        "## ●Seriesの作成  \n",
        "Seriesはラベル付きの一次元の配列で、整数や少数、文字列など様々な型のデータを格納することができます。  \n",
        "以下は、リストからSeriesを作る例です。  \n",
        "ラベルは`index`で指定します。"
      ],
      "metadata": {
        "id": "15_JRFjtynwx"
      }
    },
    {
      "cell_type": "code",
      "source": [
        "a = pd.Series([60, 80, 70, 50, 30], index=[\"Japanese\", \"English\", \"Math\", \"Science\", \"History\"])\n",
        "print(type(a))\n",
        "print(a)"
      ],
      "metadata": {
        "id": "l3Fy4Wt2yqBS"
      },
      "execution_count": null,
      "outputs": []
    },
    {
      "cell_type": "markdown",
      "source": [
        "上記ではリストとしてデータとラベルを渡していますが、NumPyの配列を使っても構いません。"
      ],
      "metadata": {
        "id": "ySqMuOQ3ytA7"
      }
    },
    {
      "cell_type": "code",
      "source": [
        "a = pd.Series(np.array([60, 80, 70, 50, 30]), index=np.array([\"Japanese\", \"English\", \"Math\", \"Science\", \"History\"]))\n",
        "print(type(a))\n",
        "print(a)"
      ],
      "metadata": {
        "id": "piGCQGVxyuYS"
      },
      "execution_count": null,
      "outputs": []
    },
    {
      "cell_type": "markdown",
      "source": [
        "Seriesは、辞書から作ることもできます。"
      ],
      "metadata": {
        "id": "HNTee-D_yxR7"
      }
    },
    {
      "cell_type": "code",
      "source": [
        "a = pd.Series({\"Japanese\":60, \"English\":80, \"Math\":70, \"Science\":50, \"History\":30})\n",
        "print(type(a))\n",
        "print(a)"
      ],
      "metadata": {
        "id": "d6aEkIv4yzfS"
      },
      "execution_count": null,
      "outputs": []
    },
    {
      "cell_type": "markdown",
      "source": [
        "## ●Seriesの操作  \n",
        "インデックスやラベルを使って、Seriesのデータの操作を行うことができます。  \n",
        "以下は、データにアクセスする例です。"
      ],
      "metadata": {
        "id": "L8Xvm2_7y2eG"
      }
    },
    {
      "cell_type": "code",
      "source": [
        "a = pd.Series([60, 80, 70, 50, 30], index=[\"Japanese\", \"English\", \"Math\", \"Science\", \"History\"])\n",
        "print(a[2])  # インデックスを指定\n",
        "print(a[\"Math\"])  # ラベルを指定"
      ],
      "metadata": {
        "id": "S7Xpm69Gy4L0"
      },
      "execution_count": null,
      "outputs": []
    },
    {
      "cell_type": "markdown",
      "source": [
        "appendを使ってデータを追加することができます。"
      ],
      "metadata": {
        "id": "MCAES_6vy6ng"
      }
    },
    {
      "cell_type": "code",
      "source": [
        "a = pd.Series([60, 80, 70, 50, 30], index=[\"Japanese\", \"English\", \"Math\", \"Science\", \"History\"])\n",
        "b = pd.Series([20], index=[\"Art\"])\n",
        "a = a.append(b)\n",
        "print(a)"
      ],
      "metadata": {
        "id": "SJ7CHDrKy8C2"
      },
      "execution_count": null,
      "outputs": []
    },
    {
      "cell_type": "markdown",
      "source": [
        "その他、データの変更や削除、Series同士の結合なども可能です。\n",
        "詳細については、公式ドキュメントなどを参考にしましょう。\n",
        "https://pandas.pydata.org/pandas-docs/stable/getting_started/10min.html"
      ],
      "metadata": {
        "id": "Ud8QvduDy-Df"
      }
    },
    {
      "cell_type": "markdown",
      "source": [
        "## ●DataFrameの作成\n",
        "DataFrameはラベル付きの二次元の配列で、整数や少数、文字列など様々な型のデータを格納することができます。  \n",
        "以下は、二次元のリストからDataFrameを作る例です。  "
      ],
      "metadata": {
        "id": "w1r_UYxjzFt7"
      }
    },
    {
      "cell_type": "code",
      "source": [
        "a = pd.DataFrame([[80, 60, 70, True],\n",
        "                  [90, 80, 70, True],\n",
        "                  [70, 60, 75, True],\n",
        "                  [40, 60, 50, False],\n",
        "                  [20, 30, 40, False],\n",
        "                  [50, 20, 10, False]])\n",
        "a  # ノートブックではprintを使わなくても表示が可能"
      ],
      "metadata": {
        "id": "9T7urWIizHIT"
      },
      "execution_count": null,
      "outputs": []
    },
    {
      "cell_type": "markdown",
      "source": [
        "DataFrameはSeriesや辞書、NumPyの配列から作ることも可能です。\n",
        "行と列には、ラベルをつけることができます。"
      ],
      "metadata": {
        "id": "zGkY52XbzJyU"
      }
    },
    {
      "cell_type": "code",
      "source": [
        "a.index = [\"Taro\", \"Hanako\", \"Jiro\", \"Sachiko\", \"Saburo\", \"Yoko\"]\n",
        "a.columns = [\"Japanese\", \"English\", \"Math\", \"Result\"]\n",
        "a"
      ],
      "metadata": {
        "id": "qjS9pw_azMvK"
      },
      "execution_count": null,
      "outputs": []
    },
    {
      "cell_type": "markdown",
      "source": [
        "## ●データの特徴\n",
        "\n",
        "`shape`により、データの行数、列数を取得できます。  \n",
        "\n",
        "最初の5行を表示する際は、head()を、最後の5行のみを表示する際はtail()を使います。\n",
        "特に行数が多い場合に、データの概要を把握するのに便利です。"
      ],
      "metadata": {
        "id": "Z22yBD6HzQ1b"
      }
    },
    {
      "cell_type": "code",
      "source": [
        "a.shape  # 行数、列数"
      ],
      "metadata": {
        "id": "wWTc9FXKzXT7"
      },
      "execution_count": null,
      "outputs": []
    },
    {
      "cell_type": "code",
      "source": [
        "a.head()  # 最初の5行"
      ],
      "metadata": {
        "id": "WZ_mEUKizY92"
      },
      "execution_count": null,
      "outputs": []
    },
    {
      "cell_type": "code",
      "source": [
        "a.tail()  # 最後の5行"
      ],
      "metadata": {
        "id": "FrSOkirlzbUs"
      },
      "execution_count": null,
      "outputs": []
    },
    {
      "cell_type": "markdown",
      "source": [
        "基本的な統計量は、describe()で一度に表示することができます。"
      ],
      "metadata": {
        "id": "cLboirXRzfO8"
      }
    },
    {
      "cell_type": "code",
      "source": [
        "a.describe()  # 基本的な統計量"
      ],
      "metadata": {
        "id": "RWJqxvw4zhJr"
      },
      "execution_count": null,
      "outputs": []
    },
    {
      "cell_type": "markdown",
      "source": [
        "これらの値は、mean()やmax()などのメソッドで個別に取得することもできます。"
      ],
      "metadata": {
        "id": "SiAu1v4AzjD5"
      }
    },
    {
      "cell_type": "markdown",
      "source": [
        "## ●DataFrameの操作  \n",
        "インデックスやラベルを使って、DataFrameのデータの操作を行うことができます。  \n",
        "以下のコードでは、`loc()`メソッドを使って範囲を指定し、Seriesデータを取り出しています。"
      ],
      "metadata": {
        "id": "2PBLi0VLzk70"
      }
    },
    {
      "cell_type": "code",
      "source": [
        "tr = a.loc[\"Taro\", :]  # 一行取り出す\n",
        "print(type(tr))\n",
        "tr"
      ],
      "metadata": {
        "id": "kGT-4VyAzm4S"
      },
      "execution_count": null,
      "outputs": []
    },
    {
      "cell_type": "markdown",
      "source": [
        "取り出した行の型がSeriesになっていることが確認できますね。\n",
        "同様にして、DataFrameから列を取り出すこともできます。"
      ],
      "metadata": {
        "id": "XRooJ6OCz9vD"
      }
    },
    {
      "cell_type": "code",
      "source": [
        "ma = a.loc[:, \"English\"]  # 一列取り出す\n",
        "print(type(ma))\n",
        "ma"
      ],
      "metadata": {
        "id": "eS4LvYrnz_e5"
      },
      "execution_count": null,
      "outputs": []
    },
    {
      "cell_type": "markdown",
      "source": [
        "こちらもSeries型ですね。\n",
        "ilocを使えばインデックスにより範囲を指定することも可能です。"
      ],
      "metadata": {
        "id": "gPvFsIne0CXD"
      }
    },
    {
      "cell_type": "code",
      "source": [
        "r = a.iloc[1:4, :2]  # 行:1-3、列:0-1\n",
        "print(type(r))\n",
        "r"
      ],
      "metadata": {
        "id": "UdMUEu6z0EU-"
      },
      "execution_count": null,
      "outputs": []
    },
    {
      "cell_type": "markdown",
      "source": [
        "loc()メソッドにより、行を追加することができます。"
      ],
      "metadata": {
        "id": "1UdBw1Ef0GTk"
      }
    },
    {
      "cell_type": "code",
      "source": [
        "a.loc[\"Shiro\"] = pd.Series([70, 80, 70, True], index=[\"Japanese\", \"English\", \"Math\", \"Result\"], name=\"Shiro\")  # Seriesを行として追加\n",
        "a"
      ],
      "metadata": {
        "id": "EZzNyLRX0H27"
      },
      "execution_count": null,
      "outputs": []
    },
    {
      "cell_type": "markdown",
      "source": [
        "列のラベルを指定し、列を追加することができます。"
      ],
      "metadata": {
        "id": "Z2XEZ0930J1g"
      }
    },
    {
      "cell_type": "code",
      "source": [
        "a[\"Science\"] = [80, 70, 60, 50, 60, 40, 80]  # 列をリストとして追加\n",
        "a"
      ],
      "metadata": {
        "id": "3NAdKXQ30LdT"
      },
      "execution_count": null,
      "outputs": []
    },
    {
      "cell_type": "markdown",
      "source": [
        "sort_valuesメソッドにより、DataFrameをソートすることができます。"
      ],
      "metadata": {
        "id": "10rpKay90NN8"
      }
    },
    {
      "cell_type": "code",
      "source": [
        "a.sort_values(by=\"Math\",ascending=False)"
      ],
      "metadata": {
        "id": "XsvH2HrD0PGY"
      },
      "execution_count": null,
      "outputs": []
    },
    {
      "cell_type": "markdown",
      "source": [
        "他にも、DataFrameにはデータの削除や変更、DataFrame同士の結合など様々な機能があります。\n",
        "もちろん、条件を詳しく絞ってデータを抽出することも可能です。\n",
        "さらに詳しく知りたい方は、公式ドキュメントなどを参考にしましょう。\n",
        "https://pandas.pydata.org/pandas-docs/stable/index.html"
      ],
      "metadata": {
        "id": "u8RLSIcQ0RKg"
      }
    },
    {
      "cell_type": "markdown",
      "source": [
        "# matplotlibの基礎\n",
        "グラフの描画や画像の表示、簡単なアニメーションの作成などを行うことができます。  "
      ],
      "metadata": {
        "id": "hEkI8DDx0UYs"
      }
    },
    {
      "cell_type": "markdown",
      "source": [
        "## ●matplotlibのインポート\n",
        "グラフを描画するためには、matplotlibのpyplotというモジュールをインポートします。  \n",
        "pyplotはグラフの描画をサポートします。  \n",
        "データにはNumPyの配列を使いますので、NumPyもインポートします。  "
      ],
      "metadata": {
        "id": "05tVR6dc0UpN"
      }
    },
    {
      "cell_type": "code",
      "source": [
        "import numpy as np\n",
        "import matplotlib.pyplot as plt"
      ],
      "metadata": {
        "id": "1zm0N7jq0Z9X"
      },
      "execution_count": null,
      "outputs": []
    },
    {
      "cell_type": "markdown",
      "source": [
        "## ●linspace関数\n",
        "\n",
        "matplotlibでグラフを描画する際に、NumPyのlinspace関数がよく使われます。  \n",
        "linspace関数は、ある区間を50に等間隔で区切ってNumPyの配列にします。  \n",
        "この配列を、グラフの横軸の値としてよく使います。  "
      ],
      "metadata": {
        "id": "ZA8MVYDh0cEV"
      }
    },
    {
      "cell_type": "code",
      "source": [
        "import numpy as np\n",
        "\n",
        "x = np.linspace(-5, 5)  # -5から5まで50に区切る\n",
        "\n",
        "print(x)\n",
        "print(len(x))  # xの要素数"
      ],
      "metadata": {
        "id": "VBhdT3AW0aCk"
      },
      "execution_count": null,
      "outputs": []
    },
    {
      "cell_type": "markdown",
      "source": [
        "## ●グラフの描画\n",
        "\n",
        "例として、pyplotを使って直線を描画します。  \n",
        "NumPyのlinspace関数でx座標のデータを配列として生成し、これに値をかけてy座標とします。  \n",
        "そして、pyplotのplotで、x座標、y座標のデータをプロットし、showでグラフを表示します。  "
      ],
      "metadata": {
        "id": "x_gg33lY0jYc"
      }
    },
    {
      "cell_type": "code",
      "source": [
        "import numpy as np\n",
        "import matplotlib.pyplot as plt\n",
        "\n",
        "x = np.linspace(-5, 5)  # -5から5まで\n",
        "y = 2 * x  # xに2をかけてy座標とする\n",
        "\n",
        "plt.plot(x, y)\n",
        "plt.show()"
      ],
      "metadata": {
        "id": "aNcmjnw60nc1"
      },
      "execution_count": null,
      "outputs": []
    },
    {
      "cell_type": "markdown",
      "source": [
        "## ●グラフの装飾\n",
        "軸のラベルやグラフのタイトル、凡例などを表示し、線のスタイルを変更してリッチなグラフにしましょう。"
      ],
      "metadata": {
        "id": "FSLr0a1M0pmr"
      }
    },
    {
      "cell_type": "code",
      "source": [
        "import numpy as np\n",
        "import matplotlib.pyplot as plt\n",
        "\n",
        "x = np.linspace(-5, 5)\n",
        "y_1 = 2 * x\n",
        "y_2 = 3 * x\n",
        "\n",
        "# 軸のラベル\n",
        "plt.xlabel(\"x value\")\n",
        "plt.ylabel(\"y value\")\n",
        "\n",
        "# グラフのタイトル\n",
        "plt.title(\"My Graph\")\n",
        "\n",
        "# プロット 凡例と線のスタイルを指定\n",
        "plt.plot(x, y_1, label=\"y1\")\n",
        "plt.plot(x, y_2, label=\"y2\", linestyle=\"dashed\")\n",
        "plt.legend() # 凡例を表示\n",
        "\n",
        "plt.show()"
      ],
      "metadata": {
        "id": "MedFIsGK0rii"
      },
      "execution_count": null,
      "outputs": []
    },
    {
      "cell_type": "markdown",
      "source": [
        "## ●散布図の表示\n",
        "scatter関数により散布図を表示することができます。  \n",
        "以下のコードでは、x座標、y座標から散布図を描画しています。 "
      ],
      "metadata": {
        "id": "1zJdr8_20ucY"
      }
    },
    {
      "cell_type": "code",
      "source": [
        "import numpy as np\n",
        "import matplotlib.pyplot as plt\n",
        "\n",
        "x = np.array([1.2, 2.4, 0.0, 1.4, 1.5])\n",
        "y = np.array([2.4, 1.4, 1.0, 0.1, 1.7])\n",
        "\n",
        "plt.scatter(x, y)  # 散布図のプロット\n",
        "plt.show()"
      ],
      "metadata": {
        "id": "fBg3prSB0tsI"
      },
      "execution_count": null,
      "outputs": []
    },
    {
      "cell_type": "markdown",
      "source": [
        "## ●画像の表示\n",
        "pyplotのimshow関数は、配列を画像として表示することができます。  \n",
        "以下のコードは、配列を画像として表示するサンプルです。"
      ],
      "metadata": {
        "id": "Rmorp0Hy0xxh"
      }
    },
    {
      "cell_type": "code",
      "source": [
        "import numpy as np\n",
        "import matplotlib.pyplot as plt\n",
        "\n",
        "img = np.array([[0, 1, 2, 3],\n",
        "                [4, 5, 6, 7],\n",
        "                [8, 9, 10,11],\n",
        "                [12,13,14,15]])\n",
        "\n",
        "plt.imshow(img, \"gray\")  # グレースケールで表示\n",
        "plt.colorbar()   # カラーバーの表示\n",
        "plt.show()"
      ],
      "metadata": {
        "id": "qpQHdQ4g0zc3"
      },
      "execution_count": null,
      "outputs": []
    },
    {
      "cell_type": "markdown",
      "source": [
        "この場合、0が黒、15が白を表し、その間の値はこれらの中間色を表します。\n",
        "カラーバーを表示することもできます。"
      ],
      "metadata": {
        "id": "-eLGAIzc01ei"
      }
    },
    {
      "cell_type": "markdown",
      "source": [
        "#  回帰\n",
        "回帰は、教師あり学習の一種で、変数間の関係を予測します。  \n",
        "今回は、単回帰と重回帰の２つを解説します。"
      ],
      "metadata": {
        "id": "1zcaEgyZFvM3"
      }
    },
    {
      "cell_type": "markdown",
      "source": [
        "## ●データセットの読み込み\n",
        "ボストン住宅価格のデータセットを読み込みます。  \n",
        "このデータセットには、**説明変数**と**目的変数**が含まれます。  \n",
        "**説明変数**: 何かの原因となっている変数  \n",
        "**目的変数**: その原因を受けて発生した結果である変数"
      ],
      "metadata": {
        "id": "-M2DZCNWFyS-"
      }
    },
    {
      "cell_type": "code",
      "source": [
        "import pandas as pd\n",
        "from sklearn import datasets\n",
        "\n",
        "boston = datasets.load_boston()\n",
        "boston_df = pd.DataFrame(boston.data, columns=boston.feature_names)  # data: 説明変数\n",
        "boston_df[\"PRICE\"] = boston.target  # target: 目的変数\n",
        "boston_df.head()"
      ],
      "metadata": {
        "id": "jKrjj6k_FoTY"
      },
      "execution_count": null,
      "outputs": []
    },
    {
      "cell_type": "markdown",
      "source": [
        "説明変数が様々な住宅の特徴で、目的変数が住宅の価格であることが分かります。\n",
        "各列のラベルの意味は、DESCRにより表示することができます。"
      ],
      "metadata": {
        "id": "IfgYP119F6CG"
      }
    },
    {
      "cell_type": "code",
      "source": [
        "print(boston.DESCR)  # データセットの説明"
      ],
      "metadata": {
        "id": "DAxV1dpxF3iu"
      },
      "execution_count": null,
      "outputs": []
    },
    {
      "cell_type": "markdown",
      "source": [
        "* CRIM： 町別の「犯罪率」\n",
        "* ZN： 25,000平方フィートを超える区画に分類される住宅地の割合＝「広い家の割合」\n",
        "* INDUS： 町別の「非小売業の割合」\n",
        "* CHAS： チャールズ川のダミー変数（区画が川に接している場合は1、そうでない場合は0）＝「川の隣か」\n",
        "* NOX： 「NOx濃度（0.1ppm単位）」＝一酸化窒素濃度（parts per 10 million単位）。この項目を目的変数とする場合もある\n",
        "* RM： 1戸当たりの「平均部屋数」\n",
        "* AGE： 1940年より前に建てられた持ち家の割合＝「古い家の割合」\n",
        "* DIS： 5つあるボストン雇用センターまでの加重距離＝「主要施設への距離」\n",
        "* RAD： 「主要高速道路へのアクセス性」の指数\n",
        "* TAX： 10,000ドル当たりの「固定資産税率」\n",
        "* PTRATIO： 町別の「生徒と先生の比率」\n",
        "* B： 「1000(Bk - 0.63)」の二乗値。Bk＝「町ごとの黒人の割合」を指す\n",
        "* LSTAT： 「低所得者人口の割合」\n",
        "* MEDV：「住宅価格」（1000ドル単位）の中央値。通常はこの数値が目的変数として使われる"
      ],
      "metadata": {
        "id": "6s8ZPfSYJPSJ"
      }
    },
    {
      "cell_type": "markdown",
      "source": [
        "データセットの特徴を把握するために、統計量を表示します。"
      ],
      "metadata": {
        "id": "OekKfI6bGAIG"
      }
    },
    {
      "cell_type": "code",
      "source": [
        "boston_df.describe()"
      ],
      "metadata": {
        "id": "WlPm9nDjF9Xn"
      },
      "execution_count": null,
      "outputs": []
    },
    {
      "cell_type": "markdown",
      "source": [
        "データセットを、訓練用のデータとテスト用のデータに分割します。"
      ],
      "metadata": {
        "id": "dAG9KcJoGITn"
      }
    },
    {
      "cell_type": "code",
      "source": [
        "from sklearn.model_selection import train_test_split\n",
        "\n",
        "# 訓練データとテストデータに分割\n",
        "x_train, x_test, t_train, t_test = train_test_split(boston.data, boston.target, random_state=0) "
      ],
      "metadata": {
        "id": "r42L6X19GBJO"
      },
      "execution_count": null,
      "outputs": []
    },
    {
      "cell_type": "markdown",
      "source": [
        "## ●単回帰\n",
        "単回帰では、直線を使い1つの説明変数で目的変数を予測します。  \n",
        "$x$を説明変数、$y$を目的変数、$a$を係数、$b$を切片としたとき、単回帰は以下の式で表されます。  \n",
        "$$y = ax + b$$"
      ],
      "metadata": {
        "id": "nCzSlf7UGOIn"
      }
    },
    {
      "cell_type": "code",
      "source": [
        "from sklearn import linear_model\n",
        "\n",
        "# RM（部屋数）の列を取得\n",
        "x_rm_train = x_train[:, [5]]\n",
        "x_rm_test = x_test[:, [5]]\n",
        "\n",
        "model = linear_model.LinearRegression() # 線形回帰モデル\n",
        "model.fit(x_rm_train, t_train)  # モデルの訓練"
      ],
      "metadata": {
        "id": "DESu26vUGL52"
      },
      "execution_count": null,
      "outputs": []
    },
    {
      "cell_type": "markdown",
      "source": [
        "係数と切片を取得します。"
      ],
      "metadata": {
        "id": "MLfLjIs9GTLP"
      }
    },
    {
      "cell_type": "code",
      "source": [
        "a = model.coef_ # 係数\n",
        "b = model.intercept_ # 切片\n",
        "print(\"a: \", a) \n",
        "print(\"b: \", b) "
      ],
      "metadata": {
        "id": "gmouj-T3GSYX"
      },
      "execution_count": null,
      "outputs": []
    },
    {
      "cell_type": "markdown",
      "source": [
        "データ及び回帰直線をグラフで表示します。"
      ],
      "metadata": {
        "id": "pgQVtiEWGasA"
      }
    },
    {
      "cell_type": "code",
      "source": [
        "import matplotlib.pyplot as plt\n",
        "\n",
        "plt.scatter(x_rm_train, t_train, label=\"Train\")\n",
        "plt.scatter(x_rm_test, t_test, label=\"Test\")\n",
        "\n",
        "y_reg = a * x_rm_train + b  # 回帰直線\n",
        "plt.plot(x_rm_train, y_reg, c=\"red\") \n",
        "\n",
        "plt.xlabel(\"Rooms\")\n",
        "plt.ylabel(\"Price\")\n",
        "plt.legend()\n",
        "plt.show()"
      ],
      "metadata": {
        "id": "kCcFh9CfGUzG"
      },
      "execution_count": null,
      "outputs": []
    },
    {
      "cell_type": "markdown",
      "source": [
        "モデルをMSE（平均二乗誤差 Mean Squared Error）を計算します。  \n",
        "\n",
        "MSEは、$E$を誤差、$y_k$を予測値、$t_k$を正解値として以下の式で定義されます。\n",
        "\n",
        "$$ E = \\frac{1}{n} \\sum_{k=1}^n(y_k-t_k)^2 $$\n",
        "\n",
        "この誤差が小さいほどモデルの誤差が小さくなります。  \n",
        "\n",
        "以下のコードは、訓練データとテストデータ、それぞれでMSEを計算します。"
      ],
      "metadata": {
        "id": "_8a8jczMGgbv"
      }
    },
    {
      "cell_type": "code",
      "source": [
        "from sklearn.metrics import mean_squared_error\n",
        "\n",
        "# 訓練データ\n",
        "y_train = model.predict(x_rm_train)\n",
        "mse_train = mean_squared_error(t_train, y_train)\n",
        "print(\"MSE(Train): \", mse_train)\n",
        "\n",
        "# テストデータ\n",
        "y_test = model.predict(x_rm_test)\n",
        "mse_test = mean_squared_error(t_test, y_test)\n",
        "print(\"MSE(Test): \", mse_test)"
      ],
      "metadata": {
        "id": "C7a4tWMiGelP"
      },
      "execution_count": null,
      "outputs": []
    },
    {
      "cell_type": "markdown",
      "source": [
        "## ●重回帰\n",
        "重回帰では、複数の説明変数を使い目的変数を予測します。  \n",
        "重回帰は、$x_k$を各説明変数として以下の式で表されます。\n",
        "\n",
        "$$ y = \\sum_{k=1}^na_kx_k + b $$\n",
        "\n",
        "今回は、13種類の説明変数を全て使って重回帰分析を行います。"
      ],
      "metadata": {
        "id": "9A8WMUKeGnE3"
      }
    },
    {
      "cell_type": "code",
      "source": [
        "model = linear_model.LinearRegression() # 線形回帰\n",
        "\n",
        "# 全ての説明変数を使い学習\n",
        "model.fit(x_train, t_train)"
      ],
      "metadata": {
        "id": "Qrwu7B0WGkrQ"
      },
      "execution_count": null,
      "outputs": []
    },
    {
      "cell_type": "markdown",
      "source": [
        "各説明変数に対応した係数を取得します。"
      ],
      "metadata": {
        "id": "7ANV0_7NGr17"
      }
    },
    {
      "cell_type": "code",
      "source": [
        "a_df = pd.DataFrame(boston.feature_names, columns=[\"Exp\"])\n",
        "a_df[\"a\"] = pd.Series(model.coef_)\n",
        "a_df"
      ],
      "metadata": {
        "id": "MU1_NW-rGrAo"
      },
      "execution_count": null,
      "outputs": []
    },
    {
      "cell_type": "markdown",
      "source": [
        "切片を取得します。"
      ],
      "metadata": {
        "id": "aIdFCkcNG0yw"
      }
    },
    {
      "cell_type": "code",
      "source": [
        "print(\"b: \", model.intercept_)"
      ],
      "metadata": {
        "id": "LjYXnz8zGyMH"
      },
      "execution_count": null,
      "outputs": []
    },
    {
      "cell_type": "markdown",
      "source": [
        "訓練データとテストデータ、それぞれでMSE（平均二乗誤差）を計算します。"
      ],
      "metadata": {
        "id": "duvgwQLMG69n"
      }
    },
    {
      "cell_type": "code",
      "source": [
        "# 訓練データ\n",
        "y_train = model.predict(x_train)\n",
        "mse_train = mean_squared_error(t_train, y_train)\n",
        "print(\"MSE(Train): \", mse_train)\n",
        "\n",
        "# テストデータ\n",
        "y_test = model.predict(x_test)\n",
        "mse_test = mean_squared_error(t_test, y_test)\n",
        "print(\"MSE(Test): \", mse_test)"
      ],
      "metadata": {
        "id": "ZYfDJCwtGu44"
      },
      "execution_count": null,
      "outputs": []
    },
    {
      "cell_type": "markdown",
      "source": [
        "単回帰の場合よりも誤差が小さくなりました。  \n",
        "ただ、テストデータの誤差は訓練データの誤差よりも大幅に大きくなりました。  \n",
        "モデルが訓練データに過剰に適合していないか、慎重に判断する必要があります。"
      ],
      "metadata": {
        "id": "HDhfPR-zG_4J"
      }
    },
    {
      "cell_type": "markdown",
      "source": [
        "# k平均法\n",
        "k平均法はk-means clusteringとも呼ばれる教師なし学習の手法です。  \n",
        "「距離」に基づき、データをk個のクラスタに分類します。"
      ],
      "metadata": {
        "id": "ywl7GzabHHNv"
      }
    },
    {
      "cell_type": "markdown",
      "source": [
        "## ●データセットの読み込み\n",
        "今回は、Irisデータセットを使用します。"
      ],
      "metadata": {
        "id": "Gr6VqCQaHJqo"
      }
    },
    {
      "cell_type": "code",
      "source": [
        "import pandas as pd\n",
        "import numpy as np\n",
        "from sklearn.cluster import KMeans\n",
        "from sklearn.datasets import load_iris\n",
        "\n",
        "iris = load_iris()\n",
        "iris_df = pd.DataFrame(iris.data, columns=iris.feature_names)  # data: 説明変数\n",
        "iris_df[\"class\"] = iris.target  # target: 目的変数\n",
        "iris_df.head()"
      ],
      "metadata": {
        "id": "uVX9dBTgG9A3"
      },
      "execution_count": null,
      "outputs": []
    },
    {
      "cell_type": "markdown",
      "source": [
        "![68747470733a2f2f71696974612d696d6167652d73746f72652e73332e616d617a6f6e6177732e636f6d2f302f3231313731322f31373562363432342d343332652d313935322d383266642d3263343463323434626336642e6a706567.jpg](data:image/jpeg;base64,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)"
      ],
      "metadata": {
        "id": "A04u-b9pItWR"
      }
    },
    {
      "cell_type": "markdown",
      "source": [
        "データセットの説明を表示します。"
      ],
      "metadata": {
        "id": "S9vZ90kNHMfI"
      }
    },
    {
      "cell_type": "code",
      "source": [
        "print(iris.DESCR)"
      ],
      "metadata": {
        "id": "D-h8uxArHLpO"
      },
      "execution_count": null,
      "outputs": []
    },
    {
      "cell_type": "markdown",
      "source": [
        "各統計量を表示します。"
      ],
      "metadata": {
        "id": "p8BU5fYnHV8Z"
      }
    },
    {
      "cell_type": "code",
      "source": [
        "iris_df.describe()"
      ],
      "metadata": {
        "id": "FIFx2rg-HSoO"
      },
      "execution_count": null,
      "outputs": []
    },
    {
      "cell_type": "markdown",
      "source": [
        "ライブラリseabornの`pairplot`により、説明変数同士、及び説明変数と目的変数の関係を一覧表示します。"
      ],
      "metadata": {
        "id": "U9W0ahnxHbxY"
      }
    },
    {
      "cell_type": "code",
      "source": [
        "import seaborn as sns\n",
        "\n",
        "sns.pairplot(iris_df, hue=\"class\")"
      ],
      "metadata": {
        "id": "0q9SOOf4HZdX"
      },
      "execution_count": null,
      "outputs": []
    },
    {
      "cell_type": "markdown",
      "source": [
        "## ●k平均法\n",
        "クラスタ分析はデータを似たもの同士グループ分けする分析ですが、k平均法はこのようなクラスタ分析の手法のひとつです。  \n",
        "以下の手順によりグループ分けが行われます。  \n",
        "\n",
        "1. 各サンプルに、ランダムにグループを割り当てる\n",
        "2. 各グループの重心を計算する。\n",
        "3. 各サンプルが属するグループを、一番重心が近いグループに変更する\n",
        "4. 変化がなくなれば終了。変化がある場合は 2. に戻る。\n",
        "\n",
        "以下のコードは、k平均法によりデータをグループ分けします。"
      ],
      "metadata": {
        "id": "rRz_FSunHiYf"
      }
    },
    {
      "cell_type": "code",
      "source": [
        "from sklearn.cluster import KMeans\n",
        "\n",
        "model = KMeans(n_clusters=3)\n",
        "model.fit(iris.data)"
      ],
      "metadata": {
        "id": "Zya9fGPfHdZH"
      },
      "execution_count": null,
      "outputs": []
    },
    {
      "cell_type": "markdown",
      "source": [
        "各グループを散布図で表示します。"
      ],
      "metadata": {
        "id": "Ricqho01HlVX"
      }
    },
    {
      "cell_type": "code",
      "source": [
        "import matplotlib.pyplot as plt\n",
        "\n",
        "axis_1 = 2\n",
        "axis_2 = 3\n",
        "\n",
        "# ラベルが0のグループ\n",
        "group_0 = iris.data[model.labels_==0]\n",
        "plt.scatter(group_0[:, axis_1], group_0[:, axis_2], c=\"red\")\n",
        "\n",
        "# ラベルが1のグループ\n",
        "group_1 = iris.data[model.labels_==1]\n",
        "plt.scatter(group_1[:, axis_1], group_1[:, axis_2], c=\"blue\")\n",
        "\n",
        "# ラベルが2のグループ\n",
        "group_2 = iris.data[model.labels_==2]\n",
        "plt.scatter(group_2[:, axis_1], group_2[:, axis_2], c=\"green\")\n",
        "\n",
        "plt.xlabel(iris.feature_names[axis_1])\n",
        "plt.ylabel(iris.feature_names[axis_2])\n",
        "plt.show()"
      ],
      "metadata": {
        "id": "4D3Noxo0HkyW"
      },
      "execution_count": null,
      "outputs": []
    },
    {
      "cell_type": "markdown",
      "source": [
        "k平均法が機能し、グループ分けが行われたように見えます。\n",
        "比較のため、元のデータセットのラベルを使ってグループ分けした結果を表示します。"
      ],
      "metadata": {
        "id": "MCTerZXfH5VZ"
      }
    },
    {
      "cell_type": "code",
      "source": [
        "axis_1 = 2\n",
        "axis_2 = 3\n",
        "\n",
        "# ラベルが0のグループ\n",
        "group_0 = iris.data[iris.target==0]\n",
        "plt.scatter(group_0[:, axis_1], group_0[:, axis_2], c=\"blue\")\n",
        "\n",
        "# ラベルが1のグループ\n",
        "group_1 = iris.data[iris.target==1]\n",
        "plt.scatter(group_1[:, axis_1], group_1[:, axis_2], c=\"red\")\n",
        "\n",
        "# ラベルが2のグループ\n",
        "group_2 = iris.data[iris.target==2]\n",
        "plt.scatter(group_2[:, axis_1], group_2[:, axis_2], c=\"green\")\n",
        "\n",
        "plt.xlabel(iris.feature_names[axis_1])\n",
        "plt.ylabel(iris.feature_names[axis_2])\n",
        "plt.show()"
      ],
      "metadata": {
        "id": "HEHscQBKHpfm"
      },
      "execution_count": null,
      "outputs": []
    },
    {
      "cell_type": "markdown",
      "source": [
        "グループの境界が多少異なりますが、属すべきグループを大まかに捉えていることがわかります。"
      ],
      "metadata": {
        "id": "dyBd57v_IA8H"
      }
    },
    {
      "cell_type": "markdown",
      "source": [
        "# サポートベクターマシン (SVM)\n",
        "サポートベクターマシン（Support Vector Machine、SVM）とは、パターン識別のための教師あり機械学習の手法です。  \n",
        "「マージン最大化」というアイディアに基づいているのですが、しばしば優れたパターン識別能力を発揮します。"
      ],
      "metadata": {
        "id": "C4y5Ko6sKFAA"
      }
    },
    {
      "cell_type": "markdown",
      "source": [
        "## ●サポートベクターマシンとは？  \n",
        "簡単にするために、2つの特徴量を持つデータを2つのグループに分類する絵を使います。\n",
        "\n",
        "**（図: サポートベクターマシンの概念）**![1_-4FOSXGyV6CSUOrOPEFc9g.png](data:image/png;base64,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)\n"
      ],
      "metadata": {
        "id": "Ba8FYXoUKH9a"
      }
    },
    {
      "cell_type": "markdown",
      "source": [
        "サポートベクターマシンとは、グループを明確に分ける境界線を引くための手法です。  \n",
        "こちらの図の例では、赤と青のクラスを明確に分ける境界線を引いています。  \n",
        "\n",
        "この図で特徴量は2つ（２次元）なので境界は線になりますが、3次元の場合は境界は面になります。  \n",
        "数学的に、直線や平面を一般化とした概念に「超平面」があります。  \n",
        "線形サポートベクターマシンでは、この超平面を使ってn次元のデータの境界を定めます。  \n",
        "\n",
        "上の図における直線の引き方ですが、「マージン最大化」により決定されます。  \n",
        "この場合のマージンは、境界となる線からもっとも近い点との距離のことです。  \n",
        "この場合は、赤と青それぞれのグループから線に最も近い2つずつの点のマージンを最大化するように線を引いています。  \n",
        "このようなマージンの最大化に使われる境界付近の点を、サポートベクトルと呼びます。\n",
        "マージンを最大化するために、赤のグループからも青のグループからももっとも遠い境界線を引くことになります。  \n",
        "\n",
        "この境界線は「分類器」として機能し、新しいデータがどちらのグループに属するかを判別することができます。"
      ],
      "metadata": {
        "id": "SgYI4u2cKObp"
      }
    },
    {
      "cell_type": "markdown",
      "source": [
        "## ●データセットの読み込み\n",
        "今回は、scikit-learnに含まれるワインのデータセットを使用します。"
      ],
      "metadata": {
        "id": "t4aldNS6LoUx"
      }
    },
    {
      "cell_type": "code",
      "source": [
        "import pandas as pd\n",
        "import numpy as np\n",
        "from sklearn.datasets import load_wine\n",
        "\n",
        "wine = load_wine()\n",
        "wine_df = pd.DataFrame(wine.data, columns=wine.feature_names)  # data: 説明変数\n",
        "wine_df[\"class\"] = wine.target  # target: 目的変数\n",
        "wine_df.head()"
      ],
      "metadata": {
        "id": "nnrMK6kkH72w"
      },
      "execution_count": null,
      "outputs": []
    },
    {
      "cell_type": "markdown",
      "source": [
        "データセットの説明を表示します。"
      ],
      "metadata": {
        "id": "qb87g9NsLuKy"
      }
    },
    {
      "cell_type": "code",
      "source": [
        "print(wine.DESCR)"
      ],
      "metadata": {
        "id": "b8yUHlx6LqkI"
      },
      "execution_count": null,
      "outputs": []
    },
    {
      "cell_type": "markdown",
      "source": [
        "説明変数\n",
        "1. alcohol アルコール濃度\n",
        "2. malic_acid リンゴ酸\n",
        "3. ash 灰分\n",
        "4. alcalinity_of_ash 灰のアルカリ度\n",
        "5. magnesium マグネシウム\n",
        "6. total_phenols 総フェノール類量\n",
        "7. flavanoids フラボノイド\n",
        "8. nonflavanoid_phenols 非フラボノイドフェノール類\n",
        "9. proanthocyanins プロアントシアニジン\n",
        "10. color_intensity 色の強さ\n",
        "11. hue 色合い\n",
        "12. od280/od315_of_diluted_wines  280 nm と 315 nm での吸光度の比\n",
        "13. proline プロリン\n",
        "\n",
        "目的変数\n",
        "14. ワインの品種"
      ],
      "metadata": {
        "id": "xY8WFskgMG4z"
      }
    },
    {
      "cell_type": "markdown",
      "source": [
        "各統計量を表示します。"
      ],
      "metadata": {
        "id": "ok94H21LMt3i"
      }
    },
    {
      "cell_type": "code",
      "source": [
        "wine_df.describe()"
      ],
      "metadata": {
        "id": "k8WVjB1PLvfX"
      },
      "execution_count": null,
      "outputs": []
    },
    {
      "cell_type": "markdown",
      "source": [
        "ライブラリseabornのpairplotにより、説明変数同士、及び説明変数と目的変数の関係を一覧表示します。"
      ],
      "metadata": {
        "id": "UIdTCwFbM0hi"
      }
    },
    {
      "cell_type": "code",
      "source": [
        "import seaborn as sns\n",
        "\n",
        "sns.pairplot(wine_df, hue=\"class\")"
      ],
      "metadata": {
        "id": "PVuKV5_MMx4H"
      },
      "execution_count": null,
      "outputs": []
    },
    {
      "cell_type": "markdown",
      "source": [
        "## ●SVMの実装\n",
        "サポートベクターマシンを使い、ワインの分類を行います。  \n",
        "まずは、データセットを訓練用のデータとテスト用のデータに分割し、標準化します。"
      ],
      "metadata": {
        "id": "otMz3BvpM7hB"
      }
    },
    {
      "cell_type": "code",
      "source": [
        "from sklearn.model_selection import train_test_split\n",
        "from sklearn.preprocessing import StandardScaler\n",
        "\n",
        "# 訓練データとテストデータに分割\n",
        "x_train, x_test, t_train, t_test = train_test_split(wine.data, wine.target, random_state=0) \n",
        "\n",
        "# データの標準化\n",
        "std_scl = StandardScaler()\n",
        "std_scl.fit(x_train)\n",
        "x_train = std_scl.transform(x_train)\n",
        "x_test = std_scl.transform(x_test)"
      ],
      "metadata": {
        "id": "y3IyxMFTM2Jp"
      },
      "execution_count": null,
      "outputs": []
    },
    {
      "cell_type": "markdown",
      "source": [
        "今回は、線形サポートベクターマシンを使い、超平面によりデータを分類します。"
      ],
      "metadata": {
        "id": "1Af-2MI3NALh"
      }
    },
    {
      "cell_type": "code",
      "source": [
        "from sklearn.svm import LinearSVC  # 線形ベクターマシン\n",
        "\n",
        "model = LinearSVC(random_state=0)\n",
        "\n",
        "# 全ての説明変数を使い学習\n",
        "model.fit(x_train, t_train)"
      ],
      "metadata": {
        "id": "GZ-fw2-jM-oQ"
      },
      "execution_count": null,
      "outputs": []
    },
    {
      "cell_type": "markdown",
      "source": [
        "訓練済みのモデルを使い、訓練データ及びテストデータで予測を行います。\n",
        "そして、その正解率を測定します。"
      ],
      "metadata": {
        "id": "X95HMauENMng"
      }
    },
    {
      "cell_type": "code",
      "source": [
        "from sklearn.metrics import accuracy_score\n",
        "\n",
        "# 予測結果\n",
        "y_train = model.predict(x_train)\n",
        "y_test = model.predict(x_test)\n",
        "print(y_train, y_test)\n",
        "\n",
        "# 正解率\n",
        "acc_train = accuracy_score(t_train, y_train)\n",
        "acc_test = accuracy_score(t_test, y_test)\n",
        "print(acc_train, acc_test)"
      ],
      "metadata": {
        "id": "1w-SIeBYNDT3"
      },
      "execution_count": null,
      "outputs": []
    },
    {
      "cell_type": "markdown",
      "source": [
        "全てのデータのグループ分け結果を、グラフ表示します。"
      ],
      "metadata": {
        "id": "rXFXrrd8NTlB"
      }
    },
    {
      "cell_type": "code",
      "source": [
        "opacity = 0.5\n",
        "colors = {\n",
        "    'blue':   [55,  126, 184],  #377eb8 \n",
        "    'orange': [255, 127, 0],    #ff7f00\n",
        "    'green':  [77,  175, 74],   #4daf4a\n",
        "    'pink':   [247, 129, 191],  #f781bf\n",
        "    'brown':  [166, 86,  40],   #a65628\n",
        "    'purple': [152, 78,  163],  #984ea3\n",
        "    'gray':   [153, 153, 153],  #999999\n",
        "    'red':    [228, 26,  28],   #e41a1c\n",
        "    'yellow': [222, 222, 0]     #dede00\n",
        "}  \n",
        "c_list = {k:eval(f'{v[0]/255},{v[1]/255},{v[2]/255},{opacity}')\n",
        "         for (k, v) in colors.items()}\n",
        "c_list['yellow']  # Gives the rgba string for 'yellow'"
      ],
      "metadata": {
        "id": "c0b1CgxFXan8"
      },
      "execution_count": null,
      "outputs": []
    },
    {
      "cell_type": "code",
      "source": [
        "import matplotlib.pyplot as plt\n",
        "\n",
        "axis_1 = 0\n",
        "axis_2 = 1\n",
        "\n",
        "x = np.concatenate([x_train, x_test])\n",
        "y = np.concatenate([y_train, y_test])\n",
        "t = np.concatenate([t_train, t_test])\n",
        "\n",
        "# 0にクラス分類されたグループ\n",
        "group_0 = x[y==0]\n",
        "plt.scatter(group_0[:, axis_1], group_0[:, axis_2], c=c_list[\"blue\"])\n",
        "\n",
        "# 1にクラス分類されたグループ\n",
        "group_1 = x[y==1]\n",
        "plt.scatter(group_1[:, axis_1], group_1[:, axis_2], c=c_list[\"red\"])\n",
        "\n",
        "# 2にクラス分類されたグループ\n",
        "group_2 = x[y==2]\n",
        "plt.scatter(group_2[:, axis_1], group_2[:, axis_2], c=c_list[\"green\"])\n",
        "\n",
        "plt.xlabel(wine.feature_names[axis_1])\n",
        "plt.ylabel(wine.feature_names[axis_2])\n",
        "plt.show()"
      ],
      "metadata": {
        "id": "rmD4-yhFNOng"
      },
      "execution_count": null,
      "outputs": []
    },
    {
      "cell_type": "markdown",
      "source": [
        "なお、結果はハイパーパラーメータを調整することで変化します。  \n",
        "例えば、LinearSVCの引数として渡すことが可能なハイパーパラメータCは、正則化のためのパラメータです。  \n",
        "この値を大きくすれば、誤分類によるペナルティが大きくなり、境界が複雑になります。  \n",
        "ハイパーパラーメータについては、以下の公式ドキュメントを参考にしてください。  \n",
        "https://scikit-learn.org/stable/modules/generated/sklearn.svm.SVC.html"
      ],
      "metadata": {
        "id": "ljz0d5dBNaFR"
      }
    },
    {
      "cell_type": "markdown",
      "source": [
        "# 主成分分析 (PCA) \n",
        "主成分分析（PCA, Principal component analysis）とは、次元削減のための教師なし機械学習の手法のひとつです。  \n",
        "「次元削減」とは、高次元の説明変数を持つデータについて、できるだけ情報を保存するように低次元のデータに変換することです。\n",
        "2次元や3次元にすれば、データの集まりを図に表現することも簡単です。"
      ],
      "metadata": {
        "id": "nIhM3m-2PIXE"
      }
    },
    {
      "cell_type": "markdown",
      "source": [
        "データセットのばらつきが最大の方向を第一主成分とする。\n",
        "相関があるものであれば、まずは一番長いところ。\n",
        "![SnapCrab_2017-6-17_17-46-5_No-00.png](data:image/png;base64,iVBORw0KGgoAAAANSUhEUgAAA6IAAAGoCAIAAADTns+fAAAAAXNSR0IArs4c6QAAAARnQU1BAACxjwv8YQUAAAAJcEhZcwAADsMAAA7DAcdvqGQAAFjnSURBVHhe7d1/aFtpnuf79EbQ3tsa2pkOg9j17fYSV1qzuMFzxyyB8R+GDVthCUuW0ZIwk1p82WxRoQwlakPIBC+mSIG76D/ETKCcvWnGUIbKbdxF2E5nUkMKXLcEbYr0bYcJjO5QhFCERnVxLvWHl+s/dGfO/Rx9nzqjHP3wkXQkHUnvFwej8+g5+nEsPc9HR4+ec8QDAAAARg4xFwAAACOImAsAAIARRMwFAADACCLmAgAAYAQRcwEAwBh5tapYLLr1l7148eLYsWOqoAuuKAEuV7kVREbMBQAA40Lp9siRIydOnHDrdd577z1VUMx16wlw//59PSTpRdINPd87d+60ey/amefPn3/69Klbr9KNqDxU2Jo9R7fShP37ov93iLkAAGBcKHtZnKqnCPX48WO30py7of5S+rR7jz3phmLu/Py8Vq9fv26rh7p165bqayu3/g0FX5Xrr1uPQPXFrTRBzAUAAGhA6U0hyYYr2OAEsauMhTyrIJaJ2zokWcuOwipHuvXuBElXydIVxSEUc/VktU9UoruzkhZsH6pysMcCuh3/sR45op3giurYXbdQH2eJuQAAAGEWE2uPU16+fFklQZ6z1dpUaocqox/aDFEaC91glyymS32s7Fgo5kpwSPvQfG+HbJvtH3u0ysERRzlX75OjuQAAAO2weBT6bl157sSJExZzFcUUy0JDAlSoCh3EXN2dRUCJMeaKHmGU46zR1cdcUb4/9Fnbxwbt0mYpVuV2dLxFnVr+ziLmAgAAtEWJVtkoStjqkmW1WtFjrmW4LulG3M1V6Vm7KzrV8PHbEd9jx47pgitqRNfaqIYoQ4qr99Ygl1p5Cy32MDEXAACMBTty2bEogdVVrRE95rbW7oFMYzG3xWPo4GYtvB6acY0d9JWGSdeuasYiu122+qFHa//QFs+OmAsAAND0aKIcGqcaOjRitiUhMffFNz/diz52Iki69aMXau/aHqpdth1OzAUAAIhBNU2NXcxV7lQFcesttXUct1aQdE+cOFG7rUqCZ2QP1S7bDifmAgAAxKCapsYu5ooqSOg46+Wq2kiqB6CAOz8/r0K72bboMWhzuxzM4aDLwTOy27TLtsOJuQAAAJEERy470zos1osSMaPrXcy1OpYpTTDrbe2cYqp2/fr1UBo2Fjcbjr4VuyndvrY9f/587WgHu6oZYi4AAEAkrZOiH6aaHM3tTJSIGV3rB9+MPYZmrI7iqS7XPk6b8rZZbK3XOm769/RyjA6oPHhG9lDtst0gMRcAACASGyHabEZYP0yNaMwNRUy7KbFV2y3BiXmfVk+EJg0P3DZk99Ls9GzVuyLmAgAA9EzrVOSHqUHHXNukY/VR0m4wVG5hUWw1GKJgq3Zwt61TCttZkevv3VRvu9uY2wIxFwAAjDs7M9n9+/fd+sssM7mVOHQQc1uwbBqEwoiixFyxnKo9Y1fNv3y6uNYsJR87dsyt1/HvqXnMbcE2sctW3x5esBMsDRNzAQDAuLPM1422Uqbd3WBjbvVRh2dRsJtStHXr3+RF3bgKFVjbmi/s1q1b2rbFQF7/ETSJubWsmlupUVtOzAUAAGigmpfCycdGps7Pzze8NtBByhx4zLXjrLVx1tTfVDBuQWpnQojCjgS3SMZ2s8RcAACA/rFxqHZ2Lj9MjVbMtQRff5y1YbmN6AhlYt1d63u0oBn8fK3eoTs20KxabTkxFwAA4BCKX0pLCklKe/advh+mmqcxi4ZtZVa7/QHGXAvx9Udnrbz2R2b27I5VT99Q+4BVUn8wOPD48WPVV4XQoIha9rAbjtxVeWv2ZO2ybULMBQAAaOX+/fsKXlIbAatpqmkuahYZWxhszLXDqPX5MsidT7859YNlXD1BxVaV67Lq2FUt7tEqS+uBvLbfWhzuDaiauJUateXEXAAAgMaU7Sx9Kn4FOc/4YapJzLVfWSnStThsaexGmokeUuu1G3NDETAYfCy6kSCbWjXtDVsNDuvq7lrco21lgz1cUR1dZdUkyscDq+lWatSWhx5S6DnWI+YCAIDRp1AbHFlUWnKlNfwwVROzgohmtFXrw5bG1W6ibzFXD1WVW4w3EMVQG48byqCWdAOhEKlrdbPKwQ0n1rU9HBJxejKr7FZqWHkLxFwAADC+FOkUzuqP4NayzORW+s5SbCx0U3q+tYdsG7p//36zOroFXaWb0t/aPaZVZVYl3WYHcUOfDVRZJc0qh9gmbqVGs3KxuyPmAgAAtNIiTmFI8e8EAADACCLmAgAAYAQRcwEAADCCiLkAAAAYQcRcAAAAjCBiLuK3ubl548YNtwIAADAIxFzEbGdnZ2JiIpVK3bt3zxUBAAD0HTEXcXr+/Hkmk7GpB9Pp9JMnT9wVAAAA/UXMRWz29/fn5uYs45qZmZm9vT13NQAAQB8RcxGbXC7n4m2NxcXFSqXiagAAAPQLMRfxWF1ddcG2zhtvvOEqAQAA9AsxFzG4c+eOi7RNrK+vu6oAAADNVSqVL7744sGDBwoPV65cyeVy8/Pzk5OT7up2EHPRrUePHqXTaZdnm0ilUtvb224DAACAl5XL5dOnT09NTbno8DKVu3rtIOaiW3t7e89eZq9It/INvXzdBgAAAHUePnzY7MDZ9PS0q9QOYi7iZ69ItwIAABBNsVicnJy0IFFrbm7O1WgHWQTxs1ekWwEAAIisVCoFc/AHFhcX3dXtIIsgfvaKdCsAAADtuHbtmmWJwOnTp9117SCLIH72inQrAAAAkW1tbVmQqD2mu7S05K5uB1kkiY4dO/bqq68+ffrUrX+jWCzqP62r3HpS2SvSrQAAAERz9+7dVCqlFFEoFPb29hYWFixUEHNHxP379/XvPHHihFuv0WXMffHihW6h1nvfuHz5sm5WdPsqdxt0yn89EnMBAEA7lEBspoWVlRUr2d/fX1xcVMm1a9espC3jlUWU56oB7JAkd+vWrSjVeuT8+fO6az1Ut15Dj0dXRYy5oVM22BFio8sqUbStRlyfKuvG5fHjx277Ltg9uhUAAIDD7O7uWsbN5/OuqKpSqeRyudXVVbfejrHLIvPz89qDJ06cePHihSt62dOnTy0FXr9+3RX1ke7dT4hHjtSPWJC2Ym4LugXdjm7Nrcet+gyIuQAAIJJgdgUlWldUQ0n30aNHbqUdY5dFHj9+bCGsWYq1CNgiB/fU5cuXde/669ZfRswFAAAjplwuW8Y9d+6cEq0rjcM4ZpH3mg9dCIYrxPLdfbtaH8qViDHXUmz3tKPcLbbJNncrAAAATSjjZrNZxYaFhYX9/X1XGpMxzSINhy4EwxU6jnddqj2U20FUjX6Ul6O5AABg4JRrLZLpb+wZV8Y0izQcumDhTzvarbcvOE7cQVA+9FBuUEG6DOLEXAAAMFjKtTZfWDabLZfLrjRW45tFgkhqac+GKxw7dqxZyoyim5hrEyy02NaO9Ro9zkOHDgcPpgMdPP5adiNuBQAA4GU2f4LSQiaT6VHGlbHOIsHQhWC4gsKuu64jHcdcmyvXNNy29lCuUSx21zVhD6bhrbU4mttiq+j8x0fMBQAATQQZt1QquaIeGOss8vjxY0u39jf62NZmLCNKWzHxxYsX9gAsdrcIpnbEV5etZutRBy0CKzEXAAAMSj6fV05Ip9OdTRMW3bhnkWBqhSjDAHrEwqv+NouYdqIHZVMFU7tgY4tbz3pmt9YZYi4AAOiFlZUVhQRl3NZH62JBzHUxVwYyiZg9gPn5eQXWhjHXBlSILgQxV+W2YbMZdqXhrRmO5qLW9rZ344Z37pw3NeUdP+6dPas2yHv40F0LAEAUlYq3uektL3vz897kpP9Xlzc2vIMDV0EKhYISQiqVunv3rivqpbHOIsF8CydOnNDfbuZY6Jgeg+7XfvdWHzGVfW18wv3797VaG3PFDgPfuXPHVkNaBFZiLszennfxov5fjRcF3+fPXU0AAFrY3fXm5sL9iC3ZrLez49fZ3Ny0hLC1tVXdqOfGOotYglRYDPJul/GuS/UR02ZXCEpCMddC8LFjxxoeh66/tQAxF/Lggffd7/oN0D/9jvfam957f+n9rOj9fMe/8J/+i/c71av0cbxfbREAYFitr3uplN9rTL/ivfWO9/5H3i9+4//VZZWoXNf+6Z8+SaVSigeFQsFt1nvjm0WuX7+ufa2MaMNbLd5Jw8ho+TJw4sQJd0WsQhHTVmuHJYRirujR6ik0HKQbPKMOBI+hM3YjbgWJ9Py5973jftPzb/6991d/4/36RXj55O+8f/sf/ArfSXtffOG2AgAgZHfXT7FHj/pHTH7123BvohKV69ojRypHjpy6ceOG26wvxjSLBLHVBgMYO7hbHxmtcm3ctEEObiU+tTHXfnYWGnpbH3PFkq4efH3SbabF0dxY6MbFrSB5KhVvcdFl3FB7FFr+eMmvNj/vbwIAQIh6BxuroCwb6kFql9ev+nV+93f/79pxun0wjllEcdBy6vmXp54Nhi7UnhpNFAdDidBmse3ykGe9IOaGMq7/mJqwB9Zu0iXmjrl79/zm5p993/vsy3BLFFr0KfzE7/uVNzbctgAABDY3/T5i+pUGx3Frl8+/8k7O+jXX192G/TGOWcQGvAbDFWpZ0JRDI6DqhA61SrB5Zwk4iLmKoaGobfSoVCF0NNco6Sq7Bweng0fSsc6egrFbcCtInitX/LbmrXfCzVDDZaXgV750yW0LAEBgednvI95+N9x31C9XfzyA3mTsskhwvrHa4Qq17EBv/dCFENWpD4JBuOwsI9rmLbZtEXPbwtHcMXfqlN/WvP9RuA1quPys6FeenXXbAgAQmJ/3+4iNj8N9R/3ywSd+zbk5t2F/jFcWUXI9Vj3fWP2B2IBFSWl4PNVYHq2PicRc4+8CYm6CTU76bc0vfhNug5otqsz/EwBQzzqU7afhjqN++exLv+bEhNuwP8ar77J4d+iRWpuEQRoGQRuY2zAoE3ONvwuIRQnW1tHcn+/4lTmaCwCoF/1o7oef+jU5mpt0CnAKym4lVnHFXD9jxqHjPG2buxUkTz7vtzURx+au3vQrMzYXAFAv+thc+6XH0pLbsD/IIu1ReutRxpW+Hc3tNT/kEnMTbGvLb2tO/P7hMy18/pX3L6szxdy+7bYFACCg3kF9xMlZv78I9SC1i679UfW4782bbsP+IItEZWMVepdxRwkxN+EqFTdu4Y+Xwi1RaHntTb/a7OxLZyQHAMCod8hm/Z7i9avhHqR2eesdv870tLe/7zbsD7JIJMNyGDUhiLnJ9+yZl077jc651xr/dECFf/KGX2FiwnvyxG0FAEDIzo47C5qSbv0xXZUo41bPguZtb7tN+oYscriGJyRDC8TcobC15ZLu5O96l//MK3zo/fXf+uf4ff8jb/m/et/7PZdxNzddfQAAGlpb8/7JP/l79RonZ/0xuB9+6p8tQn912cYqaFlddZX7iSxyODudRENKwK4SatjOcStIsGfPvLNnXQNUvywuel984WoCANDM+vr6kSOnvvWt/yvUj9gyPT2A47iGLIL4EXOHy4MH/twLCwv+wV0tuqDVu3fdtQAAtLC1tZVKpdTv/8Vf/G83b3oXL7rRujMz/mWV9Hk8bi2yCOJHzAUAYBw8fPjQMm6hUHBFSUIWQfyIuQAAjLxisZhOp9Xj5/N5V5QwZBHEj5gLAMBoK5VKlnGXl5ddUfKQRRA/Yi4AACNMGTeTyaivz+VylUrFlSYPWQTxI+YCADCqyuXyzMyMOvozZ84kOeMKWQTxI+YCADCS9vb2stmsevmFhYX9Ac6hEA1ZBPEj5gIAMHqUa5Vu1cUr6SY/4wpZBPEj5gIAMGIqlUqQccvlsitNNrII4kfMBQBglCjj5nI5de6ZTObZs2euNPHIIogfMRcAgFGytLRkGbdUKrmiYUAWQfyIuQAAjIx8Pq9uPZ1OF4tFVzQkyCKIHzEXAIDRsLa2pj59YmJi6DKukEUQP2IuAAAjoFAoqENPpVJbW1uuaKiQRRA/Yi4AAMNO0dY69M3NTVc0bMgiiJ+9K9wKAAAYNnfv3k2lUurNC4WCKxpCZBHEj5gLAMDwKhaL6XRaXfnKyoorGk5kEcSPmCuVire56eXz3vy8l057c3Pe8rK3seEdHLgKAABEYR2KOhF1KJOT/t+edii7u7uWcfPqw4YcMRfxI+bu7vq5VvugfslmvZ0dVw0AgNb63KGUSqVMJqNO/MKFC65omBFzEb8xj7nr614q5TdA0694b73j/fSX3mdfeh984r39rl+i8qNHvbU1VxkAgGZqOxR1Ihsfe9tP/b9Bh6JrY+xQyuWyZdxcLlepVFzpMCPmIn7jHHP1sVuNjoLsa296v/qt9+sXLy0qUfnRagWO6QIAWojUoRz168TSoSjjZrNZdd8LCwv7+/uudMgRcxG/sY25+uhrXy2p6Qm1R7XL61f9Oj/MMk4XANBYWx1KtusORbl2fn5efbf+jkzGFWIu4je2MXdz029upl9p8LG7dvn8K+/krF/z5k23IQAAtdrtUNbX3YYdUK5dWFhQx53NZsvlsisdCcRcxG9sY+7yst/WvPVOuBmqX67+2K958aLbEACAWtahvP1uuPuoX6xDuXTJbdiuSqWSy+XUa09NTY1YxhViLuI3tjF3ft5va97/KNwG1S8ffOLXzGbdhgAA1LIOZePjcPdRv1iHMjfnNmyXZdxMJlMqlVzRCCHmIn5jG3MnJ/225he/CbdB9ctnX/o1x3InAQAOZx3K9tNw91G/WIcyMeE2bEs+n1d/nU6nd3d3XdFooZtF/MY25kY/mvvhp37NmRm3IQAAtaIfzbUOpYOjuSsrK5Zxi8WiKxo5xFzEb2xjbvSxuSsFvyZjcwEADUUfm2sdytKS2zCiQqGgnjqVSt29e9cVjSJiLuI3tjH39m2/rTk56//0NdQM1S669kfVj+nMtAAAaKinHcrm5qZl3K2tLVc0ooi5iN/YxtyDA/9XZXrqr18Nt0S1y1vv+HV+MO2N0NSEAIA4tdWhTLfToSjaKuCqmy4UCq5odBFzEb+xjbmys+NOWqOGqf4juErUJB2tnrlxe9ttAgBAPXUo6k3UZbTqUI6216EUi0XLuGvjcdJ5Yi7iN84xV9R0KOlqB5yc9acz/OAT/2ewH37qD5+yr5a0rK66ygAANKMOxYKsOhR1IupKfvXbzjsUZdx0Oq0OOp/Pu6JRR8xF/MY85oo+gtuXTfXLD6Y5jgsAiEodyg/j6FBKpVImk1HvfKnjM0kMIWIu4kfMlYMD/wcBFy96s9XTMM7MeBcu+CWMxwUAtCXoUOwAijoUXW6rQ3n27Jll3FwuV6lUXOkYIOYifsRcAAASolwuZ7NZ9cuLi4tjlXGFLIL4EXMBAEiC/f19y7gLCwu67ErHBlkE8SPmAgAwcMq1SrfqkZV09/b2XOk4IYsgfsRcAAAGq1KpnDlzxjJuuVx2pWOGLIL4EXMBABggZdxcLqe+OJPJlEolVzp+yCKIHzEXAIABWl5eVkc8OTk5zhlXyCKIHzEXAIBByefz6oXT6XSxWHRF44osgvgRcwEAGIhCoaAuOJVKPXz40BWNMbII4kfMBQCg/9bX1y3jbm1tuaLxRhZB/Ii5AAD0maKtAq7639u3b7uisUcWQfyIuQBi8eLFixMnTrz66qu64IpeViwWjx07dvnyZbeeAI8fP9Zj1l+3DvTFw4cPLeMWCgVXBGIueoGYCyAW7733nhqTFilWCVgVVM2tJ8D8/LweksJ3L5Ju6Plqz9y5c8cuR2ERPLQ/nz59ev78eT1stx6BPl3oYejBuPUm7N+XqP/OqNJ/JJ1Oa29fuXLFFaGKLIL46Z0mbgUAOqL4ZY1JQ6pw69Ytt9LEoTmsF168eNG7pFsbc7V/dBdavX//vl17KMVZ1b9+/bpb/4bdjvanWz8MMTdRSqWSZdzl5WVXhG+QRRA/vdnErQBARxQWFb9suILlKqU0u0os5AUVLBOfOHHCro1CmyjYKavpRqqNlh9MdRdtHR9tKEi6ejzNhlt0pjbmigKuPewoedr2YbDHaukp21XaJ66ojt11C/VxlpjbB8q4mUxG+zmXy1UqFVeKb5BFEL9qi8dLC0DnLl++rGak9jilIqNKLIcFOVLRza4VO1QZ8dCmBbtmFOm6jKeWwu2mXFEcQjFX7JD2ofleT8d2YLP9Y/sz4qPlaG5ClMvlmZkZ7eSzZ8+ScRsiiyB+esuJWwGANlk8Cn23rjynKGaHLRUilbFCh12VvZTkIh6LtbtQfd1scChUFywrS/fxVLemG+np0VwTZYSufWwIjcqtpUdrubxFnQAxNwn29vay2az28MLCwv7+vivFy8giiJ/edeJWAKBNCm1RwlY3lG7FrbwsSLpB/G3IEmc36mOiu6ILtYe3A3qmukofElpn7uAI96GhuVnMtfLWGj5CtEu5VulW+3N2dpaM2wJZBPGztsytAEBHusyRHccppVu7hW4OQ9qDb/cx2P222KqD46MWXg/NuMYO+kp90j00wgZ1gvgberSd7RPUq1QqlnGz2Wy5XHalaIQsgvjpvSduBQDiFopTId3HqWobNgox13bUiXbm8Q2SbuiAut1UcNe6HOx/e7K6YHWC8tCj7f7/AlHGzeVy2pOZTOb58+euFE2QRRA/vf3ErQBA3EJxKqTLOBUczW02qiGKzh6D3W+LrWxqhWZPPKSt47i1gqSrOwq2tX1OzB24paUl7UZl3FKp5IrQHFkE8dM7UNwKAMQtFKdCuoxTNpJVoh8BrdfZY7D7bbGVPXElV7f+DZVcv369Ns7aszh//rwKq7fanmAnBHM42F0Tcwcrn89rH6bT6Z2dHVeElsgiiJ/ehOJWAKAjduSyY53FKYVCm3griHed6VHMFavjVqrsqG3tA3769KmCb7Oj0fbYGv7OzHKq6LJSvmoGWT+4qpmgDjG3R9bW1rQDJyYm2IfRkUUQP70Pxa0AQEdCIalWKE7FKPi+vssk0Vmks7tuKHiylsJrb1mJViUNY2tDLR6b7Vhx6zXsquDfocvBQ7Ib1AWrE5QTc2NUKBS091Kp1NbWlitCBGQRxE9vRXErANARS5wNT2cQilNxscOi0jBbt6WzSGf37la+YWExeLK2W4IjtW2N1jX+fTQZkmE7Vtx6DbuKmDsQirbadRL9wwwMWQTxs3ejWwGAjrRIRaE4FYsg44ZmGGjGHkPHGj54u8qtfCMUc+1xBqt2cDf6MOKn1bMii1t/WfCk3HoNuypKzG1NdWwrRHT37t1UKqVdVygUXBEiI4sgftaWuRVEUKl4m5tePu/Nz3vptDc35y0vexsb3sGBqwCMITspV8NZAixONUyKnWk34x7Kkl+7kc4eg1v5RijmBjlVe8auCp0urjV7pufPn3frLwtyqluvcWiEDeoED9UeXpCMO9snY067K51Oa7+trq66osNYh6JORB3K5KT/d5w7FLII4qc3pLgVHGZ318+12mH1Szbr8WtajC1rSboRBKzWYs+40kGks4xYP4uChcXax2Y3bqMXVL/hJ4Fm7Bxvespu/WX2GMStN2HVgjgbCJUTc7u0u7trGTefz7uiw9ChhJBFED+9J8WtoKX1dS+V8hug6Ve8t97xfvpL77MvvQ8+8d5+1y9R+dGj3tqaqwyMj2ZBKsh2Da8NhAJWC1ZT2jomeqgOIp2l7fqoXf9cglx+7NixtmY9syPB2sqt17HdLm69iWb/nVB56JF3sE/GWalUymQy2mMXLlxwRYep7VDUiWx87G0/9f8GHYquHbcOhSyC+OltKW4FzeljtxodBdnX3vR+9Vvv1y9eWlSi8qPVChzTBV68eGHpVkGwWcwK1EfDhiw0S7Ojmx3rINLZg6l/JA3LbURHKBOrsHVYt0fVbKIxifiDNmJur5XLZcu4uVyuUqm40pYidShH/Tpj1aGQRRA/vTPFraAJNVz21ZKanlB7VLu8ftWv88Ms43Qx1h4/fmy/tbKIdmjMtWjYIlEpNNvX94qGvQheHUQ6e4JPnz5169+o/5GZPTtLusFdqIJWQ8G3lp3xodmoXGPBtL6O7fDWtK1VI+Z2SRk3m81qXy0sLBxEa/rb6lCy49ShkEUQP705xa2gic1Nv7mZfqXBx+7a5fOvvJOzfs2bN92GwLixtKS0F0S9UJyq1ywyBuzAcO1txqvdSGeHUevzpT332gG7wcFd0QWFXRuba/skyJQhVvnQgby231oc7jXN9n+onJjbgf39fXtxnjp1Spdd6WHa7VDW192GI48sgvjp/SluBU0sL/ttzVvvhJuh+uXqj/2aFy+6DYHxoUik4KUkp6hUm8+axSxRNQuCDa8NVFupw3WcydqNdLX19RSqd+7o6dhz19/QD8jsmSoVKdCHMmUg2KrFgV7RLVg1afHxwDTb/6FyYm67lGsXFha0l7LZbLlcdqURWIfy9rvh7qN+sQ7l0iW34cgjiyB+eouKW0mAZM6uooehnfT+R+E2qH754BO/ZjbrNgTGgcKQUpECrsJZfeqqj1kWoYxtZdGwGVf1MB1nsrYinQ0naB1DHz9+rDirpxY6/GxJN1B7j9oDipjaRB8VGj4SO3YbEuWnePX731h5axH3SWL1rkOpVCq5XE67aGpqqq2MK9ahbHwc7j7qF+tQ5ubchiOPmIv4WVvmVgYtsbOrqH3UY/jFb8JtUP3y2ZfuAQNjQklICUwRrVlUbRaz+qY2VXfDnoKSqy60zuXaG+fPn29Y586dOxZYa4OyairgapOGp5EzoWeh1eA4cWutY259ubG7G+qY29MOxTJuJpMplUquKDLrULafhruP+sU6lIkJt+HIo+dE/PRGFbcyUKHput7/yI+V+qvLA59dJfrR3A8/9WvOzLgNAQw85mIM9bRDyefzekmn0+knT564onZEP5prHQpHc4HOVVPu4F9aCZ9dxYZSRRmbu1LwazI2FwAGpacdysrKimXcjg91W4cSZWyudShLS27DkUfMRfySEHOTP7vK7dv+XZ+c9X/6GnpUtYuu/VH1YzozLQDAQPS0QykUCuoxU6nUvXv3XFH76FCaIeYifkmIucmfXUXtoFpD3bVaxtCjql3eesev84NpL/LEMgCAOPWuQ9nc3LSMu7W15Yo60laHMj1OHQoxF/FLQsyN/g3OAGdX2dlx34KpYar/CK4SNUlHq0PBtrfdJgCAPutRh6Joq4Cr7vJmHAdXI3UoR8euQyHmIn5JiLnDMrvK2prfMOkBnJz120c9mM++9H8isFJwXy1pWV11lQEA/deLDqVYLFrG/clPfuKKulbboagTUVfyq9+Oe4dCzEX8khBzh2h2FX0Ety+b6pfpaY7jAsCAxd6hKOOm02l1lPl83hXFhA4lhJiL+CUh5g7X7CoHB/5YrkuX/IedTvsPZmnJ/4kA43EBYODi7VBKpVImk1Eveak3o+WCDkUPQ4F7zDsUYi7il4SYy+wqAIBYxNihPHv2zDJuLperVCquFD1DzEX8khBzmV0FABCLuDqUcrmczWbVP54+fZqM2x/EXMQvCTGX2VUAALGIpUPZ39+3jLuwsKDLrhQ9RsxF/JIQc4XZVQAAseiyQ1GuVbpVz6ik+/XXX7tS9B4xF/FLSMwVZlcBAMSi4w6lUqmcOXPGMm65XHal6AtiLuKXnJgrzK4CAIhFBx2KMm4ul1OfmMlkSqWSK0W/EHMRv0TFXDk48H8QcPGia55mZvzLTNcFAGhXux3K8vKyOsTjx4+TcQeCmIv4JS3mAh1477337JVcb35+/vz583fu3Hnx4oWr3ZJqXr58WVu57Y8cOXHihG7h1q1bT58+dZVa0i24LY8c0U25UgDJls/n9Z5Np9PFYtEVob/IIoifdcZuBRhOLWJu4NixY/fv33cbNKIgqzqudhPKu4d2gbURWSLGawADVCgU9G5NpVLbDI8bHLII4mc9sVsBhlMQc3XBFVUpYiraXr582a6VO3fuuOtqqNqrr75qFZR0r1+/XptldVkltQlYgdhdV+fp06eu0jca3iOA5FhfX9dbVRl3a2vLFWEQyCKIn/XEbgUYTs1ibqB2IEH92IPg+KsuNDv4qnKFXavW7F6k9pHYBQVodx2A5FG0VcDVW/X27duuCANCFkH8rCd2K8BwOjTmSnBMNzReNgivLTJuQHH52LFjLe7lxIkTuinVCS5LxEG9APrs4cOHlnELhYIrwuCQRRA/64bdCjCcosTcx48fWx2lT1dUM8ZAwTRiGNXtNBu0ENyFJengUbUY5ABgUIrFYjqd1jv02rVrrggDRRZB/KwbdivAcIoSc8XqiFuvOcTbesOIgltT3tVqkKFrgzWAJCiVSpZx8/m8K8KgkUUQP+uG3cphKhVvc9NTmzA/76XT3tyct7zsbWz4cxMCA9RxzA1+WBbLuAK7tdpQG4z6teALIGAdijoRdSiTk/7fvnUoyriZTEZvzFwuV9HjQDIQcxE/64PdSku7u36uVd36JZv1zzcDDEqUmPvixQurI1ZSLBZtNZajrffv37dbu379uiuqTlJWXwhggB1KuVyemZnRu/LcuXNk3EQh5iJ+1ge7lebW1935wadf8d56x/vpL73PvvQ++MR7+12/ROW6dm3NVQb6LErMDWJoMPVBMP1CLJMhBCMWag8MB9nafpQGQGo7FHUiGx9720/9v33oUPb29rLZrN6SCwsL+5xdM2GIuYif9cFupQl97Fajc/So99qb3q9+6/36xUuLSlSua1WHY7oYiCgxN5gZN5jINspWEQVxdn5+3hV94/z583ZV65NTAGNigB2Kcq3Srd6Mc3NzZNwEIuYiftYBu5VGKhX31ZKanlB7VLu8ftWvk80yThcDcGhgDQ611sbQGGNucGC4flKF4CqbfgEYZwPsUCqVyuLiot6J2Wy2XC67UiQJMRfxsw7YrTSyuek3N9OvNPjYXbt8/pV3ctavefOm2xDom2aB9fHjx0qZtWc4qx1REGPMDe6i4U/Zgh+6HTovLzDa2u1Q1tfdhl1Sxs3lcnoPZjKZ58+fu1IkDDEX8bPe1600srzstzVvvRNuhuqXqz/2a1686DYE+iYIrC0oiYZSZlwxN5g47Pz5867oZcGx5GC8BGAmJyenpqamp6fn5uYWFxdPnz69VHXt2rXV1dVHjx65eqPCOpS33w13H/WLdSiXLrkNu6RdqjegMm6pVHJFSB5iLuJnva9baWR+3m9r3v8o3AbVLx984tfMZt2GQN+0iLlKt9evX284n1cwDUKzeBpRcDvNUmz9r98AE0w5V28k57qyDmXj43D3Ub9YhzI35zbsRj6f1/5Mp9Oj97FhxBBzET9rT91KI5OTflvzi9+E26D65bMv/Zotbwzoic6Oy8Y1oZg2t9uJIpYJejEy7Jv0eouLiyM515V1KNtPw91H/WIdysSE27Bja2tr2p/KuHq/uyIkFfEB8bMm1a00Ev1o7oef+jVnZtyGQN90PPzAtpKO02dwgt+IOPEval25csW9MmqM8FxX0Y/mWofS5dHcQqGg/ZlKpba2tlwREoyYi/hZq+pWGok+Nnel4NdkbC76r+OYG4yabXfDwPXr1+0WWs8XFqRhTvyLWuvr6/bCCExPT+/t7bmrR070sbnWoSwtuQ07oGirgKtdypj4YUHMRfysYXUrjdy+7bc1J2f9n76GmqHaRdf+qPoxnZkW0H8dx9xg3EJoEoYWFFhrj8jaLApRzv4QjG1oOFAY4+nBgwf2qggomd1Wszui+tah3L171zJuoVBwRUg8Yi7iZw2rW2nk4MD/VZmqvH413BLVLm+949eZnvaYchv913HMleD0DfPz84dO+KVYrEQb3Evw27Ioc+IGx3058S8CX3zxhb0qJJPJXLt2zS6PajjrT4ei92k6ndZuvHHjhivCMCDmIn7WpLqVJnZ23Elr1DDVfwRXiZokXaub2d52mwD91E3MVbQNfu2uCy2O6dbfSzDmIcqvW4J5xxi3gEClUrFXxeTkpM11dfPmTTsMmc/nrc6I6XWHsru7axl3VHfgCCPmIn7VBvbwl9bamt8wqeLJWX86ww8+8X8G++Gn/vAp+2pJy+qqqwz0WTcxV2qT7rFjx65fv14bW3X51q1btdMp2KAFbWWr0WNrcC+c+BeBqamp0DwAwaDSN954YyTnW6jtUNSJqCv51W/j6VD0USGTyWjXXeRnIkOImIv4VfvcSC8tfQS3L5vql+lpjuNikLqMuUbb2kDbFi5fvhzEkeAsvtEHIQQz7EYZ5IAxcfr06YcPH7qVbzx48MAOSY7k7LnSiw6lXC7rM8MI77SRR8xF/Kp9btSX1sGBf+rFS5f8SWHSaX+ql6Ul/ycCjMfFYMUSc+XFixcKr+fPnw8Ou8qJEydUooQaGs8QnOA3+k/KgnELytOHjgPGmFA4c5depg9Uk5OTerUoB4/k/GJBh6KuZGKi2w5FuzGbzWp3LSwsHOimMYSIuYhftc/lpQUAiRN8Ba/o9vXXX7tS1NHHAPtoOsJTDo8DsgjiV025vLQAIImUdO0gpf42O+475pRrlW7ZRSOALAKvUvE2N/0Ztufn/bMm6q8ub2z43/50pppyeWkBQEIFX8fPzMzYbAxxib1D6b9KpWInTJ6enibjDjuyyLjb3fVHLymU1i/ZrD+ivwPVlMtLCwCSKzhgmclk4kq6vehQ+u/ChQvx7hYMEFlkrK2vuxlYpl/xz5S48bG3/dT/q8sqUbmuXVtzlaOrplxeWgCQaEq6Z86cUXMdmn2sMz3qUPosn8/bDiHjjgayyPjSx241OkePeq+96c8vGJpPWyUq17Wq0+5H8GrK5aUFAEkXfEGvYPfgwQNX2r6IHYqWJB/TXVlZsV3RfehHQpBFxlSl4r5aUtMTao9ql9ev+nWy2faGVVVTLi8tABgCSrrLy8tqtFOp1NbWlittR1sdyg/b7FD6plAo2E7oJu4jacgiY2pz029upl9p8LG7dvn8K/+MMqp586bbMIpqyuWlBQBD49q1axbylPZcUWQ97VD6Y3Nz055+Z0EfiUUWGVPLy35b89Y74Waofrn6Y79mW+c4rKZcXloAMEzscKastTmE1jqUt98Ndx/1y0qh7Q6lD4IzId9MYABHd8giY2q+eo7v9z8Kt0H1ywef+DWzWbdhFNZQuhUAwJDY2NiwwJfP511RBNahbHwc7j7ql58V2+5Qeq1YLE5MTOgpd3AYG8lHFhlTk5N+W/OL34TboPrlsy/9mm2l1mrK5aUFAMMnOLS5tLRUqVRcaUvWoWw/DXcfDZd2O5SeUsZNp9N6sm3FegwRssiYin4098NP/ZozM27DKKopN4kvLZu3XK2Znn467f9mYujmLQeAXgvCXy6Xi5J0ox/N/flO2x1K75S+Oe/xG2+84YraYR3KUJ8IYxwQc8dU9LG5HQylqqbcxL20RmPecgDog52dHYuACwsL+/v7rrSJ6GNzV2/6NZMwNvfZs2f2BCNG+RA6lGFBzB1Tt2/778aTs/5PX0PNUO2ia39U/Zg+7DMt1M5brnD//kf+gA391eUhmrccAPomONh56tSp1ue87WmH0gvBuY5Pnz7dQcalQxkixNwxdXDgf+LUu/H1q+GWqHbRm9Z/J097h32Yf0k15SbopWXzlmtpPW+5KvARHAACz58/tziovy2Sblsdyg/a7FBit7+/Pzs7qycV5UB1vd6dWQm9QMwdX3oH+uekSfkNU/1HcJWoSVIFtUrb226TiKopNykvLX1Q792JMIC2tDwiBiSR0u3c3Jya9KmpqRbnv43UoVSPgLbbocRLuVbpVk9Hwb2DjEuHMnSIuWNtbc0F2ZOz/hjcDz/1P4nqry7bV0taVldd5eiqKTcpL60RmLccI0PvJuYswtAJomEmk9nd3XWldXrUocSoUqmcOXNGT6T1wekW2u1Q1tfdhhgUYu6400fwH1a/bKpffjDd4cfuaspNyksrn/efy1u9OREG0Bb18XqNkXQxdJR0c7mcGvZ0Ol0sFl1pnV50KHFRxrWnoLD+xRdfuNI2tduhXLrkNsSgEHPhf6ty86Yf72xw1cyMf1klHQ+fqqbcpLy0ok+dZifCmJ11GwKxs5irhaSLoaOYeOHCBbXtSrp37951pXVi71Disry8rAd//PjxFkMvDmUdyk9/Ge4+6hfrUFQfg0XMRfyqKTcpL6102m9r/upvwm1Q/dLBiTCAtgQxVwtJF8Mon8+reU+lUnfu3HFFw+DKlSt62K0PRUdhHYo6i1D3Ub9Yh6L6GCy6dMSvmnKT8tKynwtE+fDdwYkwgLZYzLUph7RsbrpyYIjcuHHDGvlhOTuuHqceraJ5lxlXrEP54JNw91G/WIei+hgsYi7iZy2gWxm06POW24kwLlxwGwKxs5j7+lU3s1Iq5W1tuauAIWLBUVb1mk629fV1PU5l3K043mztdihLS25DDAoxF/Gz5s+tDNrQzVuOERbEXL3k/uQN/zJJF0NKqVHZUU19Pp93RckTPMiNjQ1X1B06lKFDzEX8qik3KS+t4Zq3HKOtNuZqIeliqN29ezedTqu1v3DhQgfnEuu1hw8fWsaNcXBFWx1Ku2dWQi8QcxG/aspN0EtrZ8edtEYNU/1HcJWoSUrCvOUYeaGYq4Wki6FWLBYt6Z47d66Dsy30TvDAVlZWXFFMhuVEGDDEXMSvmnKT9dJaW/OThB7UyVl/OsMPPvF/BpuoecsxDupjrhaSLobakydPMpmM2vzOzp3bC6VSaXJyUg+pRwMqkn8iDASIuYhfNeUm7qWlj+D2ZVP9MvB5yzEmGsbc2qT74IGrCQwRxcrp6Wk1+3Nzc52dXSxGejAWu3O5nCvqgSSfCAO1iLmIXzXlJvGlFcxbPls9DePMjD+vQhLmLceYaBZztVjS/U7a63rKI2AAlG6z2axafv19/vy5K+07PYyZmRk9jHPnzvV6uHBiT4SBWsRcxK+acnlpAWEtYq6Wf/3vSLoYYoqYCwsLavwzmUw3Zxrr2N7enkXt5AyfwMCRRRC/asrlpYXRoXgay7K42Crmfv6VS7ppki6Gk8Ll4uKi2n8l3Z2dHVfaF7prC9nz8/NkXATIIohfNeXy0sLo0Ms5xqVZzNVC0sWwq1QquVxOXUD3Z9aNTndq8TqbzQ58cDAShSyC+FVTLi8tjI4gnsay/Lf/Hk63tQtJF8NOofPSpUvqBeI691hrQbDOZDJkXISQRRC/asrlpYXRYTE3lEd7t9Qm3f5+8QvEJp/PqyNQ0o3rDGTNLC0t6Y4GNSAYCUcWQfyqKZeXFkZHn2OuliDpZjIefTeGVKFQsO4gxvOQhViYTqfTjx49ckVADbII4mftmlsBhl//Y64WJd0//COSLobb+vq6nXH32rVrrig+a2truuV+DgLG0CGLIH7VlMtLC6NjIDFXy2dfenOnSLoYbltbW5Z0l5eXY5zL1g4V65bv3r3rioA6ZBHEr5pyeWmhlb29ve3hOVPQoGKuFpIuRsDDhw/T6bT6hVwuF0vSDaJzH37ihqFGFkH8qimXlxZaefbsmXqp27dvu/VkG2DM1ULSxQgoFovHjx9X13DmzJku57W9e/euZdzeDfnFyCCLIH7VlMtLC60o5trrJJ/Px/g9Zo8MNuZqIeliBJRKpUwmo3d9N2cpU1y2A8M3btxwRUBzZBHEr5peeGmhlSDmSvdHd3pt4DFXS5B0Z2Y85gbFkPriiy/sfLydncdhd3fXMq4+HrsioCWyCOJXjS68tNBKbcwV9Xnq/9x1yZOEmKtFSffkrP9IslmSLoaV0m2QdNt61wcHg5eWllwRcBiyCOJXzS28tNBKKObK8ePHE/ujtITEXC1//bfe9CskXQy3/f39hYUFveujn9NB4XhqakqbxPUjNoyJVlmk2vUAQJ8k9kdpyYm5Wki6GAFKumfPntW7fnJy8tBZb4MDwArHZFy0hZgLIEFWVlZcA5QkiYq5wSDd6WliLoaYAmsul9O7Pp1OP3z40JXWUSCen59XtW5+uIaxxTfLiF81rvDSQiv1gxbU1W1ubrqrEyY5MZcpFzBKlHTtbL2pVKrhDLjB8IZsNru3t+dKgcjIIohfNbTw0kIroZibyWSSfEr6hMRcMi5G0rVr19QIKOmur6+7oqrgcO/MzEwH0zIAQhZB/Kq5hZcWWqmNuadOnUp4H5aEmEvGxQizM/dK7RkfLly4oJLoP1MD6pFFED9rrdwK0EgQcy9evHhwcOBKk2rgMZeMi5G3ublp5zazOXFtMEM6nSbjohtkEcSvml54aaEVxVx1aWtra2492QYbcz//yvvDPyLjYvRtbW1NTEyo+/iDP/gD/VXGPXQSBqA1sgjiV025vLTQSrlcvnfvnltJvAHGXGXcf/3vyLgYF8q13/72t9WDfOtb3/r4449dKdApsgjiR8zFiBlUzA0ybjqt7t89GGCEbW5uWg8ii4uLzCCGLpFFED9rodwKMPwGEnPJuBg3W1tbNjx3dXXVzuu7sLDAPGLoBlkE8aumXF5aGB39j7lBxv0OGRfjoVgs2sBcm2whOPOZ/jKbGDpGFkH8qimXlxZGR59jLhkX40YZN51Oq+OwaRaM0q2d/2x6epr5FtAZsgi8SsXb3PSWl735eW9y0v+ryxsbXsezPFVTLi8tjA6Lua9fjWf5b/89nGtDCxkXw6uDDkUR1oYoLKvqy4KzoKnCkydPXCkQGVlk3O3uenNzrhcPLdmst7PjqrWlmnJ5aWF01L4vul+UdEO5tnb5kzf8OmRcDKMOOpRnz55Zxs3lchVl5DoHBwd2LjTmF0MHyCJjbX3dS6X8Bmj6Fe/td72Nj73tp/5fXVaJynVtBxObVlMuLy2MjtXVeJbFRf9t1SLmWsbV+254JlsDnA46lGAA7pkzZxpmXKOrLl68qGpKukM0ESGSgCwyvvSxW43O0aPea296v/ptuLtVicp1req0e0y3mnJ5aQFhSrotYm6Qcbe2XH1gWETsULQEHcr+/v7s7Kw6i4WFhSgTh9l50VKp1BbvEERGFhlT+thsXy2p6Qm1R7WL+mPVyWbbG6dbTbkxv7RiH0AM9F+LmEvGxfBqq0P5YbVDCQbdZrPZ6JPj3rhxQ5so6dpsDB2zDiWf97uSdNp/8HQoo4qYO6b0DldzM/1Kg4/dtcvnX3knZ/2aN2+6DaOoptw4X1q9GEAM9F+zmEvGxVBrt0P58z//+zNnzqib6GCyMAVcm1tXkdcVtYkOZawQc8eUPrnqLf3WO+FmqH65+mO/5sWLbsMoqik3tpdWjwYQA/3XMOaScTHsrENRm1z7wm64rBT8mt///v+hPiKTyTx79szdRDuCs0jUzj4WUW2Hoh7wp7/0PvvS++CTf+xQjh6lQxkpxNwxNT/vv5/f/yjcBtUvev+rpj7jRldNufG8tHo3gBjov/qYq45WJWRcDDXrUDY+/scXdrPlZ0W/5pEj/gxi3UyFe+/ePZtn9+LFiy1+uxYSqUOpVqBDGRnE3DE1Oem3Nb/4Tfh9Xr/ok261VXIbRhFXzO3pAGKg/0Ix9+13/VUtGxuuAjCMrEPZfvqPzXKLxV7z3U8NFpxRIpfLHURo/TsYQIwRQMwdU9GP5n74qV9zZsZtGEVcMbfd8V7r625DIJlqY26Qcbv7LQ0weNGP5v58x685NRVPhHzy5InNuRtlroae/iIFiUXMHVPRx+baUKqBjM2NPt7LBhBfuuQ2BJIpiLlkXIyS6G316k2/ZlsdSmulUmlmZkY9zvz8fOtfs+Xz/l33qNdDYhFzx9Tt2/7bWJ9Z9ck19A6vXXTtj6of0wcy00L0IwQ2gHhuzm2Ifnr69OmxY8deffVVXXBFaMJirv3SRQsZF6Ohpx3KoYJzTLSet+H0af+uo3yHaQOI2/pFChKLmDumDg7897DeycEwwYaL/T5metqLPK2hL66YG328lw0gnphwG6Kfbt26pX/3vD6U4DAWc20h42JktNWh/KDNDiWKvb09m4W3xS/b1JHp3qP8IkWLvUkxAvg3jq+dHfebUzVM9R/BVaImSdfqrb697TaJqJpy+3o01wYQczR3IBRw9e++c+eOW2/Te++9Zy+Ydrnth0oQc8m4GDG961Ai2t/fP336tFoGJd1Hjx650hqL1VNtRzmaawOI2/pFChKLmDvW1tb8hknv55Oz/mgkhcVf/db/q8v21ZIWdcztiiuFtDsX49KS23B4BZmv9c+Q7QDqodVip7uz+21L6wdpT1l/3fpIs5jLrJwYST3qUKKrVCq5XE7tSTqdrm92oo/NjX0AMQaImDvu9BHcvmyqX6anO/zYXc02Mby0Bjvea1Ds4OiJEydevHjhil5mY2FV5/r1666oXyzmvvrqq279MKqp+sTcgPr49uezB4ZGLzqUtijpvvHGG2pSlHS3Xp6MemPDfxjj1qGAmAt/WNX6uj9NwdycP7xVf5eW/Hd4x8On1MSIW+lCTwcQJ9bjx49tBzZLsZYdW+Tg3iHmdqmL6fCB4WAdyp/+6f/77W//7ZEjB5OTz/7jf/z7bjqUDuTzebUqqVRqc3PTFSVgADEGgpiL+Kl9EbfSnZ0dfzjX0dTAxnsNhCU/qQ+IwXAFpWFX1Ee9i7ntchsDSJ69vT2b+iDKdLY9UigUrK3QBVcUcQBxddzFKHUoY47eAvGzxsWtdG1tzQXZQY33GoiGQxeC4QqDOvZpMbddHM0FxodyrU16oEZsUBnX3L59O5VK6ZGsrKy4opcHEF/9sT8Z5Wdfjn6HMs6IuYifH23UVMRHH8F/2GS81w/6Mt6r/xoOXbCDo91M3RXk1OhHZGv17mguMRcYAZVKZXFxUe/o1lPY9s3W1pYl3XzNoPgWA4hHtUMZZ8RcxE9tiriVmBwc+MOFL150zdPMjH+5z+O9+szyn1hMtOEKx44d6+YsDMRcAD0STHQwNTWVhIxrtre30+m0HpUemx6hFQYdymz1vL7qUC5cGPEOZWwRcxE/NSjiVtCFYOhCMFxBYddd15EBxtzHjx/r6dQPKQ7SfFvcxgASY2lpSe/NFidoGBQ1QcePH9djO3v27GDHUaD/6C0Qv2oO4aUVA4VCS7f2t7NsWiuWmNsubfXixQuFdV2unz6Co7nACLDJDdLp9O7uritKEiVv5W89wgH+Kg4DQRZB/NSUiFtBd4KpFZR0+z+DWIjF3HaP5t6/f98OSzc8UxoxFxh2a2trehc3PClDcjx79szmf5idnU3OmAr0GlkE8VM7Im4F3QlirgxkErFancVcUUZvdjZgYi4w1GzqrlQqdffuXVeUVEq3yrh6tMq7Sr2uFCONLIL4+bmGmBuHYL4F+8a/mzkWYhEl5qqOKNQqudrDVsYNBXSLtt2LHrgB9IJNZSChU44lVjDfWQLHEKMXyCKIn0UQt4Iu2Hf958+fD/LuAI96vnjxwg4t61FZipXLly8ra4ol2obu37/vbqIR3Yjq6K9b/4bdoBKzWweQMHfv3lXA1fu09hQMyaeke+7cOT1sJV1amJFHFkH81HyIW0Gnrl+/rt0YDMm1OCithy6o1VadbiYdq6cHYHctFmqN8rcfdb+hOKt711/7wZxyapSoqg1VR3/d+jd0O3Yj9SOSlbZ17wMfqQyMM72vbaKutbU1VzQ8grnP9BS2mSl3pJFFED+1HeJW0BFLq1J7KNQO7jZMfgHbKt6YG50etmVci6H6q8udxVy5fPmyrtJft169fdsJupfWB4kB9M7u7q5l3NrTLgwdmx1iiEZcoANkEcRPDYe4FbRPAdGOg54/f94VVQVDF+qn5Qpisel/zNVj1qPVXSuABpP7dhlzxW5B1+pG7LKtcigXGJRgcq5Lly65oqG1srKiJ6Kke/v2bVeE0UIWQfyqUYSXVufsKGYwXKGWhUJplh2tQrOYG6RhRUZX1DU9SN2pHcRV0q296+5jbpCeRXehagRcYIDK5fLU1JTej7UnFRtqNlOEDNcIY0REFkH8rMlwK2iTjUmVZl/K24HeZkMX+hxz79y5Y49HN1gfZ7uPufZEbJiybq3/R6kBBJRxberZxcXF0ci4Ru2Y/ZbuypUrrgijgiyC+KmxELeCdii52mHR2gGpIUFUrR+6IP2JubVHcBsGXNNuzNXNqvKtW7dsAgeVB7PtqtzytGpyQBfov/39fRsZP5InEtva2rLRxsvLy6OU4EEWSSi9yzY3veVlb37em5z0/+ryxoZ3cOAqJJlaCnEr3dne9lZWvLNnvePH/UUXtPrwobt29Fi2a3akNmBHN6U+QfY65j5+/FgZNMjiLaZ90FVWrVnMVfn9+/eDp6zKolU9O6XbhrccHDzWXTe7WQAh1qHk835Xkk57c3NtdyjBdLPZbHZvb8+VDpVDe1U1KZZ0R2Y8BoSYm0S7u34zpKBYv2Sz3s6Oq5ZYaibErXRKDenFiy8999rl3Dnv+XNXE7Vax9yOKXTqli1i2ry5DYO4yqv//Jc0DKznz5/XrVmovXXrljqY6MdoFY4Vc7V58Fs3AM1036EE028p4w7paXIj7oRHjx7Zr+tOnz49ekesxxMxN3HW171Uyn/vTb/ivfWO9/5H3i9+4//VZZWoXNcmfJrCarbp6qX14IH/aVu38U+/4732pvfeX3o/K/qLLiy95f3Od/2rvvtdj0lg6vUi5iqAKlMqmCpWtr5lpVX775tj1R+NuesA9F0sHcqFCxf0dh7e04a1tRP0HO03dgsLC19//bUrxdAi5iaLPnHq/Xb0qJ/tfvVb79cvXlpUonJdqzpJPqZbTTidv7SeP/fHJ+gG/s2/9/7qb8I7Qcsnf+f92//gV0invS++cFvB9OhoLoChYx2Klm46FJtcdnJyckgzbge9avBLu+E9eo0AMTdBKhX3rYredaG3Yu3y+lW/Tjab3HG6fsjtNOZqJywuuowbeuKh5Y+X/Grz8/4mCBBzAUgsHYpNK5tOp4d0KHzHO0Hp9tSpU3ruSrpDmu9hiLkJsrnpv9OmX2nwibN2+fwr7+SsX3N93W2YNH7I1ePryL17/lP7Z9/3Pvsy/MRDi/bSid/3K29suG0hxFwA0m6HcvOm2zBgE8qmUqmHQ/uz3252QvCru+EdrQEh5iZIPu+/zd56J/wOrF+u/tivmdgT0PghV4+vI1euRN0JWmw/vPGG23achQbFmo6nUwAw7KK3pSsFv+bFi25Ds7m5qTZk2E+EG71XbbgTDg4O7Ld3w3s8G8TcBJmf999mP/1l+O1Xv3zwiV9T9ZOpGrE6fGktLPhP7f2Pwk+54WL7YW7ObQsAMKdPR21Lf1b0a87Oug1F0dZOlzDsp8CN3qvW7wRTqVSWlpa0K5R0Hzx44EoxPIi5CZJO+2+zQ7+s16I6qqn6yVRNuR2+tGwnNPzlWf1i+6HTuwKAkTU11UZbWtuQFovFiYkJteEjcPLb6L2qltqdEGK/wxv2Y9vjiYCQIDZS/oNPwu+9+uXDT/2aiT2KWU25Hb60on/41mL7IZt12wIAjH0zFqUt/fmOX3Nmxt9KGddOkTAap72N3qvW7oSG1tbWtFuUdG/Wj2JGghFzE2R52X+bvf1u+O1Xv9gooqUlt2HSVFNuhy8tG0oVZSdoSfh+AIBBid6Wrt70a1644E8ZaydHWFZvNBKi96rBTmhBAdfGcvzkJz9xRUg8Ym6C3L7tv81Ozvq/+gy9A2sXXfuj6iHPxH6krKbcDl9aW1v+Uzvx+4d/zaT98C+rn9QTO+MEAAzKxkZ7Hco77/w/lnFH6VS3sfeqwajlvD5GYBgQcxPk4MD//l3vtNevht+Etctb7/h1pqe9xJ6JsJpyO3xpqXU9dcp/gn+8FH7ioeW1N/1qs7PJnT8YAAalrQ5l6n/+/06e/F/Ubp89e3ZkMq60tRN+EK1XffDggY3rWFpaGqV9NaqIucmys+OfjuVoyn9P1n/6VInejbpWb8jtbbdJAlVTbucvrWfPvO9Ufzdw7jVv+2l4J2hR4Z+84Vf49re9J0/cVgCAWupQ7ARgh3Yo/+Jf/K9qtBcWFvYTe/ikU73oVYMRzKN05HtUEXMTZ23Nf0/qLXdy1h97+uGn/rzW+qvL9q2KltVVVzmZqim3q5fW1pb7hezk97zLf+YVPvRP8KvlL37mLf9X73u/5181MeFP/Q0AaEYdipKuGkx1KFd/7P8Y67Mvwx3K97//l2qxZ2dnRy/jml70qsE45pH8bDBKiLlJpE+fP6x+z1K//GA60cdxTTXldvvSevbMO3v2pedeuywuel984WoCAJpRh2Jf3Ncv6lD+1b+6quY6m82Wy2W3wSjqRa+qpKv9pr2npDvae2+oEXMT6uDAHwt/8aJrnmZm/MsqGYoPjdWUG89L68ED//fCCwv+wV0tuqDVu3fdtQCAQwUdymz1lLbqUC5c8P78z//+3LmLaqszmczz589d1dHVi15V6daS7sh/ThhexFzEr5pyeWkBQHItLy+roVbGLZVKrgjt+/rrrxcWFrQnp6am2JMJRBZB/Kopl5cWACTUlStX1Eqn0+mdnR1XhE7t7++fPn1a+1OfGXZ3d10pkoEsgvhVUy4vLQBIokKhoCZ6YmKiWCy6InSnUqnkcjntVX1yYK8mClkE8aumXF5aAJA46+vrap9TqdTW1pYrQhyUdG0ciJLuXX5BkhhkEcSvmnJ5aQFAsgQn8bpz544rQqxsNAifIpKDLIL4VVMuLy0ASJCHDx9axi0UCq4IPWBjQtjPCUEWaUOl4p+PYHnZm5/3Jif9v7q8seFPU4Ja9g53KwCAOtah5PN+V5JOe3Nzve1QghN3rSb89EIjYWNjwz5RsLcHjiwS1e6u3wwpvNUv2aw/9TQC1ZTLSwsAGutzh1IqlSYnJ9Us5xWr0RfB+BD2+WCRRSJZX3fnS5x+xXv7XW/jY2/7qf9Xl1Wicl27tuYqo5pyeWkBQAO1Hcpb73g//aV/At4PPvnHDuXo0Tg7lOC0tBcuXHBF6IvgCLr2fKVScaXoL7LI4fSxW02S2p3X3vRPhP3rFy8tKlG5rlUdjumaasrlpQUAYZE6lGqFWDqU4DRduVyOpNV/Srr2GUP7f38ozmI6csgih1CzYF8tqekJtUe1y+tX/TrZLON0fdWUy0sLAF7SVofyw647lL29Pcu4CwsLB3ROAxIcTdd/gaTbf2SRQ2xu+s3N9CsNPnbXLp9/5Z2snit8fd1tOM6qKZeXFgC8pN0O5eZNt2EHlKjsJLSnTp0iXQ3W8+fP7fPGzW7+o+gIWeQQy8t+W/P2u+FmqH65+mO/5qVLbsNxVk25vLQA4CX5vN9NvPVOuPuoX1YKfs2LF92G7apUKouLi2qHla7K5bIrxeDov7DGL3gGgSxyiPl5v63Z+DjcBtUvH3zi15ybcxuOM2IuANQ7fdrvJt7/KNx91C8/K/o1s1m3YVuCE89OTU2RcTHmyCKHmJz025rtp+E2qH757Eu/5sSE23CcEXMBoN70tN9N/OI34e6j4aKanbWjly5dUgucyWRKpZIrAsYVWeQQ0Y/mfvipX5OjuULMBYB6i4t+NxHlaO7Pd/yaMzNuw+jy+bya33Q6/eTJE1cEjDGyyCGij821oVRLS27DfrKz6STn9GzEXACoF31s7upNv2a7Y3PX1tYs4xaLRVfUPutQ+nZ6NqCnyCKHuH3bb2tOzvo/fQ01Q7WLrv1R9bhv/39GmcDTsxFzAaCewqKaxh51KIVCQQ1vKpW6d++eK2of5/vEiCGLHEKfX/Xe1jv89avhlqh20adz1Zme9vo8bUsyT89GzAWAem11KD9op0OxU8uKLrii9vX59GxAH5BFDqfPr3bSGjVM9R/BVaLmQNeqCdjedpv0R2JPz0bMBYCGInUo1awZvUO5d++eAq5a3W6mZe3z6dmA/iCLRKLPr3r/q905OeuPwf3wU/89r7+6bF8taVlddZX7I8mnZyPmAkAztR3K1R/7h0s/+7LzDqVYLKbTaTW5P/nJT1xR+/p8ejagb8giUenzq33ZVL9MT/f7OK4k+fRsxFwAaCGuDmV3d9cybj6fd0Ud6efp2YB+Iou0QZ9fFRYvXfI/9U5M+H+Xlvx3+0BOo5jk07MRcwGgtaBDCSY0aLdDKZVKmUxGje2lrtv3vp2eDegzssiwij6hb/9Pz0bMBYCeKpfLU1NTamlzuVylUnGlnerP6dmA/iOLDKskn56NmAsAvaOMm81m1cyePn26+4wr/Tk9G9B/vFSHVfSjuf0/PRsxFwB6ZH9//9SpU2pjFxYWdNmVdmex96dnAwaCLDKsknx6NmIuAPSCcq3SrRrYbDb79ddfu9Ku9fr0bMCgkEWGVZJPz0bMBYDYVSqVXC5nGbdcLrvSOPT09GzAAJFFhlVbZ9Pp8+nZiLkAELsLFy6oac1kMqVSyRXFpK0Opa3TswGDRRYZYpHOpjOI07MRcwEgXvl8Xu3q8ePHY8+4phenZwMGjiwy3BJ4ejYh5gJAjFZXV9WoptPpYrHoinog3tOzAUlAFhl6STs9mxBzASAuhUJBLWoqldrufYOewA4F6AZZZBQk6vRsQswFgFhsbm5axt3a2nJFPdb96dmA5CCLIH7EXADonqKtAq6a09u3b7siAO0giyB+xFwA6FKxWJyYmFBbWigUXBGANpFFED9iLgB0Y2dnJ51OqyG9du2aKwLQPrII4kfMBYCOlUqlTCajVjSfz7siAB0hiyB+xFwA6MyzZ88s4+ZyuUql4koBdIQsgvgRcwGgA+VyOZvNqv08d+4cGRfoHlkE8SPmAkC79vf3Z2dn1XguLCzosisF0AWyCOJHzAWAtijXKt2q5ZybmyPjAnEhiyB+xFwAiK5SqZw9e1bNZjabLZfLrhRA18giiB8xFwAiUsbN5XJqMzOZzPPnz10pgDiQRRA/Yi4ARLS8vGwZt1QquSIAMSGLIH7EXACI4sqVK2ot0+n0o0ePXBGA+JBFED9iLgAcqlAoWMYtFouuCECsyCKIHzEXAFq7ffu22slUKrW1teWKAMSNLIL4EXMBoAVFWwVctZN37txxRQB6gCyC+BFzAaCZhw8fWsYtFAquCEBvkEUQP2IuADRULBbT6bRayBs3brgiAD0z7lmkUvHu3fNWVrzTp73paf/vlSve1pZfjo4RcwGMoaBDOXu2cYdSKpUmJyfVPObzeVcEoJfGOos8f+4tLiqTNVhOnfKePXPV0C5iLoBxc2iHooybyWTUNl68eNFtA6DHxjeLPHjgfe+43wD9s+97b73jvf+R94vf+H91efoVvzyd9u7edZXRFmIugLGiDuV4yw7lf/rOP/zzf/6mGsZcLlfh60KgX8Y0i+zted/9rt/0/Jt/7332pffrFy8tKjn3mku6HNPtADEXwPhQhzI5eXiH8q1v/Y/5+dzBwYHbDEDvjWkWuXjRNUmh9qh2sYbp7Fm3CaIj5gIYH9E7lDNnOI4L9NU4ZpHtbb+5+aff8f7qb8ItUe3yyd95k7/r13zwwG2IiIi5AMZEGx3K9+hQgH4bxyxy44bf1rz2ZrgZql8u/5lf88oVtyEiIuYCGBNra+11KEyxAPTTOGaRc+f8tua9vwy3QfVL4UO/JuMW2kXMBTAmcrmoHcr7H/k1FxbchgD6YByzyNSU39b8rBhug+qXv/5bv2Ym4zZERMRcAGNidjZqh7L91K+ZTrsNAfTBOGYRm/bl7qNwG1S/fPJ3fk3VR1uIuQDGxMxM1A7lsy+JuUC/jWMWOXvWb2uif8d0+rTbEBERcwGMieij4H76S78mgxaAfhrHLLKy4rc1/+m/hNug+mX5v/o1+cVAu4i5AMbE6mrUDuWtd+hQgH4bxyzy8KHf1vzOd/0xCaFmqHbZfup97/f8mpwLrV3EXABjgg4FSLIxzSL2NdO//Q/hlqh2+ZM3/DqLi24TREfMBTA+6FCAxBrTLPL8uTs34x8veb/67UuNkZbPv/InQdS1ExPeF1+4TRAdMRfA+FCH8ju/8/d0KEACjW8W2dryvpP2m54Tv++tFNx0MD/f8VZvev9yzjVJm5uuMtpCzAUwPkql0uTkpSPf+h90KEDSjHUW0Qfr+Xm/AapfZme9J09cNbSLmAtgTJTL5ampKbV4Z84s/+Ef/kNtPxIsdCjAoIx7FqlUvNu3vUuX3BTf+qvLKjk4cBXQAWIugHGgjJvNZtXcnT59uuJ7qUPJZr2lJW99nQ4FGBiyCOJHzAUw8vb390+dOqW2bmFhQZddKYAkIYsgfsRcAKNNuVbpVg1dNpsl4wKJRRZB/Ii5AEZYpVLJ5XKWccvlsisFkDxkEcSPmAtghF24cEFNXCaT+YIZwoBkI4sgfsRcAKMqn8+rfTt+/HipVHJFAJKKLIL4EXMBjKTV1VU1bul0ulgsuiIACUYWQfyIuQBGT6FQUMuWSqXIuMCwIIsgfsRcACNmc3PTMu7W1pYrApB4ZBHEj5gLYJQo2irgqlnb2NhwRQCGAVkE8SPmAhgZxWJxYmJCbVqhUHBFAIYEWQTxI+YCGA07OzvpdFoN2srKiisCMDzIIogfMRfACCiVSplMRq1ZPp93RQCGClkE8SPmAhh2z549s4yby+VcEYBhQxZB/Ii5AIZauVzOZrNqx86dO1epVFwpgGFDFkH8iLkAhtf+/v7s7KwasYWFBV12pQCGEFkE8SPmAhhSyrVKt2rB5ufnybjAsCOLIH7EXADDqFKpnD17Vs1XNpstl8uuFMDQIosgfsRcAENHGTeXy6ntymQyZFxgNJBFED9iLoChs7y8bBm3VCq5IgBDjiyC+BFzAQyXK1euqNVKp9OPHj1yRQCGX+KySKXibW7qU7U3P+9NTvp/dXljwzs4cBWQfMRcAEkQsUMpFAqWcYvFoisCMBKSlUV2d725OYWkBks26+3suGpIOGIugIGL2KHcvn1b7VUqlbp7964rAjAqEpRF1te9VMpvgKZf8d5+19v42Nt+6v/VZZWoXNeurbnKSDJiLoDBitihbG1tKeCqvdIFtyWAEZKULKKP3Wp0jh71XnvT+9VvvV+/eGlRicp1repwTDf5iLkABihih3L06D8cPfpHaqwKhYLbEsBoSUQWqVTcV0tqekLtUe3y+lW/TjbLON2kI+YCGJS2OpQjR0qrq3xLCIysRGSRzU2/uZl+pcHH7trl86+8k7N+zfV1tyGSiZgLYFDoUAAEEpFFlpf9tubtd8PNUP1y9cd+zUuX3IZIJmIugEGhQwEQSEQWmZ/325qNj8NtUP3ywSd+zbk5tyGSiZgLYFDoUAAEEpFFJif9tmb7abgNql8++9KvOTHhNkQyEXMBDAodCoDAkB3N/fBTvyYfvhOOmAtgUOhQAAQSkUWiD6VaKfg1l5bchkgmYi6AQaFDARBIRBa5fdtva07O+j99DTVDtYuu/VH1Y/rNm25DJBMxF8Cg0KEACCQiixwc+LPhqrl5/Wq4Japd3nrHrzM97e3vuw2RTMRcAINChwIgkJQssrPjTlqjhqn+I7hK1CTpWrVK29tuEyQWMRfAANGhADAJyiJra37DpHbn5Kw/ZOrDT/3JvfVXl+2rJS2rq64ykoyYC2Cw6FAASLKyiD6C25dN9cv0NB+7hwYxF8DA5fP/+5Ejpdp+JFjoUIAxkbgscnDgn3rx0iV/kpeJCf/v0pL/EwGGTw0RYi6Awdra2kr50v/5P/+fdCjA2CKLIH7EXAADdO/ePSVctULr6+uuCMBYIosgfsRcAINSLBbT6bSaoEKh4IoAjCuyCOJHzAUwELu7u5Zx8/m8KwIwxsgiiB8xF0D/lUqlTCajxmd5edkVARhvZBHEj5gLoM/K5fLU1JRanlwuV6lUXCmA8UYWQfyIuQD6SRk3m82q2Tlz5gwZF0CALIL4EXMB9M3+/v6pU6fU5iwsLOiyKwUAYi56gZgLoD+Ua5Vu1eBks1kyLoAQsgjiR8wF0AeVSiWXy1nGLZfLrhQAvkEWQfyIuQD64MKFC2pqMpnMs2fPXBEA1CCLIH7EXAC9ls/nLeOWSiVXBAAvI4sgfsRcAD21urqqRiadTheLRVcEAHXIIogfMRdA7xQKBbUwExMTZFwArZFFED9iLoAe2dzcVPOSSqW2trZcEQA0QRZB/Ii5AHpB0VYBV82Lwq4rAoDmyCKIHzEXQOyKxeLExITalkKh4IoAoCWyCOJHzAUQr52dnXQ6rYZlZWXFFQHAYcgiiB8xF0CMSqVSJpNRq5LP510RAERAFkH8iLkA4vLs2TPLuBcuXHBFABANWQTxI+YCiEW5XM5ms2pPcrlcpVJxpQAQDVkE8SPmAuje/v7+7OysGpOFhQVddqUAEBlZBPEj5gLo3s2bN9WSzM/Pk3EBdIYsgvgRcwHEYmNjo1wuuxUAaBNZBPEj5gIAgIEjiyB+xFwAADBwZBEAAACMIGIuAAAARhAxFwAAACOImAsAAIARRMwFAADACCLmAgAAYAQRcwEAADByPO//B8IpkJS2NYrwAAAAAElFTkSuQmCC)"
      ],
      "metadata": {
        "id": "7Sx5Ee_jR_Ra"
      }
    },
    {
      "cell_type": "markdown",
      "source": [
        "##●PCAの実装"
      ],
      "metadata": {
        "id": "FYMD24i3S6VM"
      }
    },
    {
      "cell_type": "markdown",
      "source": [
        "フィーチャースケーリング\n",
        "\n",
        "* 特徴量の取りうる値の範囲（スケール）を変える"
      ],
      "metadata": {
        "id": "CjQuwUOaUPFU"
      }
    },
    {
      "cell_type": "code",
      "source": [
        "#x = np.concatenate([x_train, x_test])\n",
        "from sklearn.preprocessing import StandardScaler\n",
        "sc = StandardScaler()\n",
        "Xsc = sc.fit_transform(x)"
      ],
      "metadata": {
        "id": "wMEmBr1KUVAb"
      },
      "execution_count": null,
      "outputs": []
    },
    {
      "cell_type": "code",
      "source": [
        "from sklearn.decomposition import PCA\n",
        "pca = PCA(n_components = 2)\n",
        "Xsc_pca = pca.fit_transform(Xsc)\n",
        "explained_variance = pca.explained_variance_ratio_"
      ],
      "metadata": {
        "id": "KMTIQEklSJmS"
      },
      "execution_count": null,
      "outputs": []
    },
    {
      "cell_type": "code",
      "source": [
        "opacity = 0.5\n",
        "colors = {\n",
        "    'blue':   [55,  126, 184],  #377eb8 \n",
        "    'orange': [255, 127, 0],    #ff7f00\n",
        "    'green':  [77,  175, 74],   #4daf4a\n",
        "    'pink':   [247, 129, 191],  #f781bf\n",
        "    'brown':  [166, 86,  40],   #a65628\n",
        "    'purple': [152, 78,  163],  #984ea3\n",
        "    'gray':   [153, 153, 153],  #999999\n",
        "    'red':    [228, 26,  28],   #e41a1c\n",
        "    'yellow': [222, 222, 0]     #dede00\n",
        "}  \n",
        "c_list = {k:eval(f'{v[0]/255},{v[1]/255},{v[2]/255},{opacity}')\n",
        "         for (k, v) in colors.items()}\n",
        "c_list['yellow']  # Gives the rgba string for 'yellow'"
      ],
      "metadata": {
        "id": "D3bNUHc9dy4M"
      },
      "execution_count": null,
      "outputs": []
    },
    {
      "cell_type": "markdown",
      "source": [
        "さきほどのワインデータ、全てのデータのグループ分け結果を、主成分分析の軸を使って、\n",
        "グラフ表示します。"
      ],
      "metadata": {
        "id": "QaLcKF9Ageuc"
      }
    },
    {
      "cell_type": "code",
      "source": [
        "import matplotlib.pyplot as plt\n",
        "\n",
        "axis_1 = 0\n",
        "axis_2 = 1\n",
        "\n",
        "#x = np.concatenate([x_train, x_test])\n",
        "#y = np.concatenate([y_train, y_test])\n",
        "#t = np.concatenate([t_train, t_test])\n",
        "\n",
        "# 0にクラス分類されたグループ\n",
        "group_0 = Xsc_pca[y==0]\n",
        "plt.scatter(group_0[:, axis_1], group_0[:, axis_2], c=c_list['red'],label=\"class 0\")\n",
        "\n",
        "# 1にクラス分類されたグループ\n",
        "group_1 = Xsc_pca[y==1]\n",
        "plt.scatter(group_1[:, axis_1], group_1[:, axis_2], c=c_list['green'],label=\"class 1\")\n",
        "\n",
        "# 2にクラス分類されたグループ\n",
        "group_2 = Xsc_pca[y==2]\n",
        "plt.scatter(group_2[:, axis_1], group_2[:, axis_2], c=c_list['blue'],label=\"class 2\")\n",
        "\n",
        "plt.xlabel('PC1')\n",
        "plt.ylabel('PC2')\n",
        "plt.legend()\n",
        "plt.show()"
      ],
      "metadata": {
        "id": "ZVKtLnshNVsQ"
      },
      "execution_count": null,
      "outputs": []
    },
    {
      "cell_type": "markdown",
      "source": [
        "## 乳がんの診断モデルの作成\n",
        "機械学習の手法を使って、乳がんを診断するモデルを構築しましょう。"
      ],
      "metadata": {
        "id": "qlEGbn-9gKJM"
      }
    },
    {
      "cell_type": "markdown",
      "source": [
        "## ●データセットの読み込み\n",
        "今回は、scikit-learnに含まれる乳がん診断のデータセットを使用します。"
      ],
      "metadata": {
        "id": "pyQLtZh0gUH0"
      }
    },
    {
      "cell_type": "code",
      "source": [
        "import pandas as pd\n",
        "import numpy as np\n",
        "from sklearn.datasets import load_breast_cancer\n",
        "\n",
        "bc = load_breast_cancer()\n",
        "bc_df = pd.DataFrame(bc.data, columns=bc.feature_names)  # data: 説明変数\n",
        "bc_df[\"class\"] = bc.target  # target: 目的変数\n",
        "bc_df.head()"
      ],
      "metadata": {
        "id": "CVOoJHvZVjM4"
      },
      "execution_count": null,
      "outputs": []
    },
    {
      "cell_type": "markdown",
      "source": [
        "データセットの説明を表示します。"
      ],
      "metadata": {
        "id": "l0mHUUcXhNVL"
      }
    },
    {
      "cell_type": "code",
      "source": [
        "print(bc.DESCR)"
      ],
      "metadata": {
        "id": "_AgmfmRKgWFb"
      },
      "execution_count": null,
      "outputs": []
    },
    {
      "cell_type": "markdown",
      "source": [
        "各統計量を表示します。"
      ],
      "metadata": {
        "id": "Su9oAgxThSKd"
      }
    },
    {
      "cell_type": "code",
      "source": [
        "bc_df.describe()"
      ],
      "metadata": {
        "id": "ERBN8-hshPDj"
      },
      "execution_count": null,
      "outputs": []
    },
    {
      "cell_type": "markdown",
      "source": [
        "ライブラリseabornのpairplotにより、説明変数同士、及び説明変数と目的変数の関係を一覧表示します。"
      ],
      "metadata": {
        "id": "zoYa9asghWCG"
      }
    },
    {
      "cell_type": "code",
      "source": [
        "import seaborn as sns\n",
        "\n",
        "sns.pairplot(bc_df, hue=\"class\")"
      ],
      "metadata": {
        "id": "WYqb7zOahUkD"
      },
      "execution_count": null,
      "outputs": []
    },
    {
      "cell_type": "markdown",
      "source": [
        "## ●モデルの構築 \n",
        "まずは、データセットを訓練用のデータとテスト用のデータに分割し、標準化します。"
      ],
      "metadata": {
        "id": "0YZ_6yeuhaux"
      }
    },
    {
      "cell_type": "code",
      "source": [
        "from sklearn.model_selection import train_test_split\n",
        "from sklearn.preprocessing import StandardScaler\n",
        "\n",
        "# 訓練データとテストデータに分割\n",
        "x_train, x_test, t_train, t_test = train_test_split(bc.data, bc.target, random_state=0) \n",
        "\n",
        "# データの標準化\n",
        "std_scl = StandardScaler()\n",
        "std_scl.fit(x_train)\n",
        "x_train = std_scl.transform(x_train)\n",
        "x_test = std_scl.transform(x_test)"
      ],
      "metadata": {
        "id": "vahqUnwThXwx"
      },
      "execution_count": null,
      "outputs": []
    },
    {
      "cell_type": "markdown",
      "source": [
        "訓練済みのモデルを使い、訓練データ及びテストデータで予測を行います。\n",
        "そして、その正解率を測定します。"
      ],
      "metadata": {
        "id": "BHJJa-M8hi9G"
      }
    },
    {
      "cell_type": "code",
      "source": [
        "from sklearn.svm import LinearSVC  \n",
        "\n",
        "model = LinearSVC(random_state=0) \n",
        "\n",
        "# モデルの訓練\n",
        "model.fit(x_train, t_train)  "
      ],
      "metadata": {
        "id": "o4mYn2vthdsi"
      },
      "execution_count": null,
      "outputs": []
    },
    {
      "cell_type": "code",
      "source": [
        "from sklearn.metrics import accuracy_score\n",
        "\n",
        "# 予測結果\n",
        "y_train = model.predict(x_train)\n",
        "y_test = model.predict(x_test)\n",
        "print(y_train, y_test)\n",
        "\n",
        "# 正解率\n",
        "acc_train = accuracy_score(t_train, y_train)\n",
        "acc_test = accuracy_score(t_test, y_test)\n",
        "print(acc_train, acc_test)"
      ],
      "metadata": {
        "id": "aE-_FPf_hgYz"
      },
      "execution_count": null,
      "outputs": []
    },
    {
      "cell_type": "markdown",
      "source": [
        "## ディープラーニング"
      ],
      "metadata": {
        "id": "NSITwuMai9Ov"
      }
    },
    {
      "cell_type": "code",
      "source": [
        "import numpy as np\n",
        "from sklearn import datasets\n",
        "from sklearn import preprocessing\n",
        "from sklearn.model_selection import train_test_split\n",
        "from keras.utils import np_utils\n",
        "\n",
        "iris = datasets.load_iris()\n",
        "\n",
        "scaler = preprocessing.StandardScaler()\n",
        "scaler.fit(iris.data)\n",
        "\n",
        "x = scaler.transform(iris.data)\n",
        "t = np_utils.to_categorical(iris.target)\n",
        "\n",
        "x_train, x_test, t_train, t_test = train_test_split(x, t, train_size=0.75)"
      ],
      "metadata": {
        "id": "7bQFrx_IiRty"
      },
      "execution_count": null,
      "outputs": []
    },
    {
      "cell_type": "markdown",
      "source": [
        "## モデルの構築\n",
        "`mode.summary()`により以下の結果が表示されるモデルを構築します。\n",
        "\n",
        "$$\n",
        "_________________________________________________________________\n",
        "Layer (type)                 Output Shape              Param #   \n",
        "=================================================================\n",
        "dense_1 (Dense)              (None, 16)                80        \n",
        "_________________________________________________________________\n",
        "activation_1 (Activation)    (None, 16)                0         \n",
        "_________________________________________________________________\n",
        "dense_2 (Dense)              (None, 16)                272       \n",
        "_________________________________________________________________\n",
        "activation_2 (Activation)    (None, 16)                0         \n",
        "_________________________________________________________________\n",
        "dense_3 (Dense)              (None, 3)                 51        \n",
        "_________________________________________________________________\n",
        "activation_3 (Activation)    (None, 3)                 0         \n",
        "=================================================================\n",
        "Total params: 403\n",
        "Trainable params: 403\n",
        "Non-trainable params: 0\n",
        "_________________________________________________________________\n",
        "None\n",
        "$$"
      ],
      "metadata": {
        "id": "ueAdpylJjExQ"
      }
    },
    {
      "cell_type": "code",
      "source": [
        "from keras.models import Sequential\n",
        "from keras.layers import Dense, Activation\n",
        "\n",
        "model = Sequential()\n",
        "#\n",
        "model.add(Dense(16, input_dim=4))\n",
        "model.add(Activation('relu'))\n",
        "model.add(Dense(16))\n",
        "model.add(Activation('relu'))\n",
        "# \n",
        "model.add(Dense(3))\n",
        "model.add(Activation('softmax')) \n",
        "model.compile(optimizer='sgd',loss='categorical_crossentropy',metrics=['accuracy']) # モデルのコンパイル\n",
        "\n",
        "print(model.summary())"
      ],
      "metadata": {
        "id": "zizVIt5XjDUN"
      },
      "execution_count": null,
      "outputs": []
    },
    {
      "cell_type": "markdown",
      "source": [
        "## 学習\n",
        "構築したモデルを訓練しましょう。"
      ],
      "metadata": {
        "id": "paFFhrvZjYQ8"
      }
    },
    {
      "cell_type": "code",
      "source": [
        "history = model.fit(x_train, t_train, epochs=30, batch_size=8)"
      ],
      "metadata": {
        "id": "awD2SNV9jRWF"
      },
      "execution_count": null,
      "outputs": []
    },
    {
      "cell_type": "markdown",
      "source": [
        "## 学習の推移\n",
        "学習が問題なく行われたことを確認するために、学習の推移を見ましょう。"
      ],
      "metadata": {
        "id": "5fN6wnNcjc9M"
      }
    },
    {
      "cell_type": "code",
      "source": [
        "import matplotlib.pyplot as plt\n",
        "\n",
        "hist_loss = history.history['loss']  # 訓練用データの誤差\n",
        "hist_acc = history.history['accuracy']  # 検証用データの誤差\n",
        "\n",
        "plt.plot(np.arange(len(hist_loss)), hist_loss, label='loss')\n",
        "plt.plot(np.arange(len(hist_acc)), hist_acc, label='accuracy')\n",
        "plt.legend()\n",
        "plt.show()"
      ],
      "metadata": {
        "id": "jNZ88WGsjbTy"
      },
      "execution_count": null,
      "outputs": []
    },
    {
      "cell_type": "markdown",
      "source": [
        "## 評価\n",
        "モデルの評価を行いましょう。"
      ],
      "metadata": {
        "id": "v8Az3m5Hjf7u"
      }
    },
    {
      "cell_type": "code",
      "source": [
        "loss, accuracy = model.evaluate(x_test, t_test)\n",
        "print(loss, accuracy)"
      ],
      "metadata": {
        "id": "2PMI6Jeajesk"
      },
      "execution_count": null,
      "outputs": []
    },
    {
      "cell_type": "markdown",
      "source": [
        "## 予測\n",
        "学習済みのモデルを使って、予測を行いましょう。  "
      ],
      "metadata": {
        "id": "k0qCCT7ujjbt"
      }
    },
    {
      "cell_type": "code",
      "source": [
        "model.predict(x_test)"
      ],
      "metadata": {
        "id": "zsNfDndsjh81"
      },
      "execution_count": null,
      "outputs": []
    },
    {
      "cell_type": "markdown",
      "source": [
        "# ●CNNの実装\n",
        "Kerasを使い、CNNを実装します。  \n",
        "今回はCIFAR-10というデータセットを使い、画像の分類を行います。"
      ],
      "metadata": {
        "id": "QGYnGuYOlZmf"
      }
    },
    {
      "cell_type": "markdown",
      "source": [
        "## ●CIFAR-10\n",
        "Kerasを使い、CIFAR-10を読み込みます。  \n",
        "CIFARは、約6万枚の画像にラベルをつけたたデータセットです。  \n",
        "以下のコードでは、CIFAR-10を読み込み、ランダムな25枚の画像を表示します。"
      ],
      "metadata": {
        "id": "kT3uQpBPlgp9"
      }
    },
    {
      "cell_type": "code",
      "source": [
        "!pip install tensorflow==2.1.0\n",
        "!pip install keras==2.3.1"
      ],
      "metadata": {
        "id": "qXaVkezdltEl"
      },
      "execution_count": null,
      "outputs": []
    },
    {
      "cell_type": "code",
      "source": [
        "import numpy as np\n",
        "import matplotlib.pyplot as plt\n",
        "import keras\n",
        "from keras.datasets import cifar10\n",
        "\n",
        "(x_train, t_train), (x_test, t_test) = cifar10.load_data()\n",
        "print(\"Image size:\", x_train[0].shape)\n",
        "\n",
        "cifar10_labels = np.array([\"airplane\", \"automobile\", \"bird\", \"cat\", \"deer\",\n",
        "                           \"dog\", \"frog\", \"horse\", \"ship\", \"truck\"])\n",
        "\n",
        "n_image = 25\n",
        "rand_idx = np.random.randint(0, len(x_train), n_image)\n",
        "\n",
        "plt.figure(figsize=(10,10))  # 画像の表示サイズ\n",
        "for i in range(n_image):\n",
        "    cifar_img=plt.subplot(5,5,i+1)\n",
        "    plt.imshow(x_train[rand_idx[i]])\n",
        "    label = cifar10_labels[t_train[rand_idx[i]]]\n",
        "    plt.title(label)\n",
        "    plt.tick_params(labelbottom=False, labelleft=False, bottom=False, left=False)  # ラベルとメモリを非表示に\n",
        "\n",
        "plt.show()"
      ],
      "metadata": {
        "id": "zFoRBF1ZjlS1"
      },
      "execution_count": null,
      "outputs": []
    },
    {
      "cell_type": "markdown",
      "source": [
        "## ●各設定\n",
        "CNNの各設定を行います。  \n",
        "また、ラベルをone-hot表現に変換します。  \n",
        "one-hot表現は、クラスの数だけ要素のあるベクトルで、正解の値は1でそれ以外は0になります。  \n",
        "例: (0 0 0 1 0 0 0 0 0 0)"
      ],
      "metadata": {
        "id": "EXeMvA8lmI5l"
      }
    },
    {
      "cell_type": "code",
      "source": [
        "from keras.utils.np_utils import to_categorical\n",
        "\n",
        "batch_size = 32\n",
        "epochs = 20\n",
        "n_class = 10  # 10のクラスに分類\n",
        "\n",
        "# one-hot表現に変換\n",
        "t_train = to_categorical(t_train, n_class)\n",
        "t_test = to_categorical(t_test, n_class)\n",
        "print(t_train[:10])"
      ],
      "metadata": {
        "id": "pDGhWN2-ljZN"
      },
      "execution_count": null,
      "outputs": []
    },
    {
      "cell_type": "markdown",
      "source": [
        "## ●モデルの構築\n",
        "CNNのモデルを構築します。  \n",
        "今回は、以下の順に複数の層を並べます。  \n",
        "\n",
        "------------------------  \n",
        "畳み込み層  \n",
        "畳み込み層  \n",
        "Maxプーリング層  \n",
        "畳み込み層  \n",
        "畳み込み層  \n",
        "Maxプーリング層  \n",
        "全結合層  \n",
        "全結合層  \n",
        "\n",
        "------------------------  \n",
        "\n",
        "また、中間層である全結合層の直後にドロップアウトを挟みます。  \n",
        "ドロップアウトはランダムにニューロンを無効にするテクニックですが、これによりモデルの汎化性能が向上します"
      ],
      "metadata": {
        "id": "GvULXT1-mM-t"
      }
    },
    {
      "cell_type": "code",
      "source": [
        "from keras.models import Sequential\n",
        "from keras.layers import Dense, Dropout, Activation, Flatten\n",
        "from keras.layers import Conv2D, MaxPooling2D\n",
        "from keras.optimizers import Adam\n",
        "\n",
        "model = Sequential()\n",
        "\n",
        "model.add(Conv2D(32, (3, 3), padding='same', input_shape=x_train.shape[1:]))  # ゼロパディング、バッチサイズ以外の画像の形状を指定\n",
        "model.add(Activation('relu'))\n",
        "model.add(Conv2D(32, (3, 3)))\n",
        "model.add(Activation('relu'))\n",
        "model.add(MaxPooling2D(pool_size=(2, 2)))\n",
        "\n",
        "model.add(Conv2D(64, (3, 3), padding='same'))\n",
        "model.add(Activation('relu'))\n",
        "model.add(Conv2D(64, (3, 3)))\n",
        "model.add(Activation('relu'))\n",
        "model.add(MaxPooling2D(pool_size=(2, 2)))\n",
        "\n",
        "model.add(Flatten())  # 一次元の配列に変換\n",
        "model.add(Dense(256))\n",
        "model.add(Activation('relu'))\n",
        "model.add(Dropout(0.5))  # ドロップアウト\n",
        "model.add(Dense(n_class))\n",
        "model.add(Activation('softmax'))\n",
        "\n",
        "model.compile(optimizer=Adam(), loss='categorical_crossentropy', metrics=['accuracy'])\n",
        "\n",
        "model.summary()"
      ],
      "metadata": {
        "id": "d49d1I6xmK2D"
      },
      "execution_count": null,
      "outputs": []
    },
    {
      "cell_type": "markdown",
      "source": [
        "## ●学習\n",
        "モデルを訓練します。  \n",
        "学習には時間がかかりますので、編集→ノートブックの設定のハードウェアアクセラレーターでGPUを選択しましょう。"
      ],
      "metadata": {
        "id": "JeovrjglmiA3"
      }
    },
    {
      "cell_type": "code",
      "source": [
        "x_train = x_train / 255  # 0から1の範囲に収める\n",
        "x_test = x_test / 255\n",
        "\n",
        "history = model.fit(x_train, t_train, epochs=epochs, batch_size=batch_size,\n",
        "                    validation_data=(x_test, t_test))"
      ],
      "metadata": {
        "id": "Q9vMjF9lmPL7"
      },
      "execution_count": null,
      "outputs": []
    },
    {
      "cell_type": "markdown",
      "source": [
        "## ●学習の推移\n",
        "Historyには学習の経過が記録されています。  \n",
        "これを使って、学習の推移を表示します。"
      ],
      "metadata": {
        "id": "JnKfP1HWm71A"
      }
    },
    {
      "cell_type": "code",
      "source": [
        "import matplotlib.pyplot as plt\n",
        "\n",
        "train_loss = history.history['loss']  # 訓練用データの誤差\n",
        "train_acc = history.history['accuracy']  # 訓練用データの精度\n",
        "val_loss = history.history['val_loss']  # 検証用データの誤差\n",
        "val_acc = history.history['val_accuracy']  # 検証用データの精度\n",
        "\n",
        "plt.plot(np.arange(len(train_loss)), train_loss, label='loss')\n",
        "plt.plot(np.arange(len(val_loss)), val_loss, label='val_loss')\n",
        "plt.legend()\n",
        "plt.show()\n",
        "\n",
        "plt.plot(np.arange(len(train_acc)), train_acc, label='acc')\n",
        "plt.plot(np.arange(len(val_acc)), val_acc, label='val_acc')\n",
        "plt.legend()\n",
        "plt.show()"
      ],
      "metadata": {
        "id": "MR6oEXrnmt-r"
      },
      "execution_count": null,
      "outputs": []
    },
    {
      "cell_type": "markdown",
      "source": [
        "## ●評価\n",
        "モデルの評価を行います。  "
      ],
      "metadata": {
        "id": "q5qKTR0-nHiZ"
      }
    },
    {
      "cell_type": "code",
      "source": [
        "loss, accuracy = model.evaluate(x_test, t_test)\n",
        "print(loss, accuracy)"
      ],
      "metadata": {
        "id": "ve0bJUtwnE0K"
      },
      "execution_count": null,
      "outputs": []
    },
    {
      "cell_type": "markdown",
      "source": [
        "## ●予測\n",
        "学習済みのモデルを使って予測を行います。 "
      ],
      "metadata": {
        "id": "QyHAw0E5naK0"
      }
    },
    {
      "cell_type": "code",
      "source": [
        "n_image = 25\n",
        "rand_idx = np.random.randint(0, len(x_test), n_image)\n",
        "\n",
        "y_rand = model.predict(x_test[rand_idx])\n",
        "predicted_class = np.argmax(y_rand, axis=1)\n",
        "\n",
        "plt.figure(figsize=(10, 10))  # 画像の表示サイズ\n",
        "for i in range(n_image):\n",
        "    cifar_img=plt.subplot(5, 5, i+1)\n",
        "    plt.imshow(x_test[rand_idx[i]])\n",
        "    label = cifar10_labels[predicted_class[i]]\n",
        "    plt.title(label)\n",
        "    plt.tick_params(labelbottom=False, labelleft=False, bottom=False, left=False)\n",
        "plt.show()"
      ],
      "metadata": {
        "id": "zU1hNGjenYBj"
      },
      "execution_count": null,
      "outputs": []
    },
    {
      "cell_type": "markdown",
      "source": [
        "## モデルの保存\n",
        "学習済みのモデルをGoogle Driveに保存します。  "
      ],
      "metadata": {
        "id": "-b6birqIneGM"
      }
    },
    {
      "cell_type": "code",
      "source": [
        "from google.colab import drive\n",
        "drive.mount('/content/drive/')"
      ],
      "metadata": {
        "id": "Bn6fsmirnbzf"
      },
      "execution_count": null,
      "outputs": []
    },
    {
      "cell_type": "code",
      "source": [
        "import os\n",
        "from keras.models import load_model\n",
        "\n",
        "path = '/content/drive/My Drive/cnn_cifar10/'\n",
        "\n",
        "# ディレクトリを作成　する\n",
        "if not os.path.exists(path):\n",
        "    os.makedirs(path)\n",
        "\n",
        "# ファイルを保存する\n",
        "model.save(path + \"model_cnn_cifar10.h5\")"
      ],
      "metadata": {
        "id": "XYaBXdiznjVu"
      },
      "execution_count": null,
      "outputs": []
    },
    {
      "cell_type": "markdown",
      "source": [
        "Google Driveを開いて、モデルが保存されたことを確認しましょう。"
      ],
      "metadata": {
        "id": "fGwVMsnJnlRW"
      }
    }
  ]
}